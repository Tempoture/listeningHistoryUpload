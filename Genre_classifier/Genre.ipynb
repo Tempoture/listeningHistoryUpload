{
 "cells": [
  {
   "cell_type": "code",
   "execution_count": 1,
   "id": "patient-scout",
   "metadata": {
    "colab": {
     "base_uri": "https://localhost:8080/"
    },
    "id": "patient-scout",
    "outputId": "f766e3e1-c6a3-4478-d0f4-ac0a284ae06e"
   },
   "outputs": [
    {
     "name": "stderr",
     "output_type": "stream",
     "text": [
      "/usr/local/lib/python3.7/dist-packages/statsmodels/tools/_testing.py:19: FutureWarning: pandas.util.testing is deprecated. Use the functions in the public API at pandas.testing instead.\n",
      "  import pandas.util.testing as tm\n",
      "/usr/local/lib/python3.7/dist-packages/sklearn/externals/six.py:31: FutureWarning: The module is deprecated in version 0.21 and will be removed in version 0.23 since we've dropped support for Python 2.7. Please rely on the official version of six (https://pypi.org/project/six/).\n",
      "  \"(https://pypi.org/project/six/).\", FutureWarning)\n",
      "/usr/local/lib/python3.7/dist-packages/sklearn/utils/deprecation.py:144: FutureWarning: The sklearn.neighbors.base module is  deprecated in version 0.22 and will be removed in version 0.24. The corresponding classes / functions should instead be imported from sklearn.neighbors. Anything that cannot be imported from sklearn.neighbors is now part of the private API.\n",
      "  warnings.warn(message, FutureWarning)\n"
     ]
    }
   ],
   "source": [
    "import category_encoders as ce\n",
    "import matplotlib.pyplot as plt\n",
    "from sklearn import preprocessing\n",
    "from sklearn import neighbors\n",
    "from sklearn import multiclass\n",
    "from scipy import sparse\n",
    "from pandas.plotting import scatter_matrix\n",
    "from scipy import stats\n",
    "from sklearn.linear_model import SGDClassifier\n",
    "from sklearn.tree import DecisionTreeClassifier\n",
    "from sklearn import svm\n",
    "from imblearn.under_sampling import RandomUnderSampler\n",
    "from imblearn.over_sampling import RandomOverSampler\n",
    "from sklearn.model_selection import cross_val_score,StratifiedShuffleSplit\n",
    "from sklearn.model_selection import StratifiedKFold\n",
    "from sklearn import ensemble\n",
    "from sklearn import naive_bayes\n",
    "from sklearn.linear_model import LogisticRegression\n",
    "from sklearn.neural_network import MLPClassifier\n",
    "from sklearn.discriminant_analysis import LinearDiscriminantAnalysis,QuadraticDiscriminantAnalysis\n",
    "from sklearn import metrics\n",
    "from sklearn.model_selection import train_test_split\n",
    "import seaborn as sns\n",
    "import pandas as pd\n",
    "import numpy as np"
   ]
  },
  {
   "cell_type": "markdown",
   "id": "instrumental-publisher",
   "metadata": {},
   "source": [
    "Let's import the dataset."
   ]
  },
  {
   "cell_type": "code",
   "execution_count": null,
   "id": "powered-heart",
   "metadata": {},
   "outputs": [],
   "source": [
    "data = pd.read_csv('SpotfiyFeatures.csv')"
   ]
  },
  {
   "cell_type": "markdown",
   "id": "arbitrary-garlic",
   "metadata": {
    "id": "arbitrary-garlic"
   },
   "source": [
    "We randomize the data first"
   ]
  },
  {
   "cell_type": "code",
   "execution_count": 2,
   "id": "adjacent-arizona",
   "metadata": {
    "id": "adjacent-arizona",
    "scrolled": true
   },
   "outputs": [],
   "source": [
    "data = data.sample(frac=1)"
   ]
  },
  {
   "cell_type": "markdown",
   "id": "adjustable-access",
   "metadata": {
    "id": "adjustable-access"
   },
   "source": [
    "Remove any duplicate songs in different genres"
   ]
  },
  {
   "cell_type": "code",
   "execution_count": 3,
   "id": "given-enclosure",
   "metadata": {
    "id": "given-enclosure",
    "scrolled": true
   },
   "outputs": [],
   "source": [
    "column_split = (set(data.columns))\n",
    "column_split.remove('genre')\n",
    "data = data.drop_duplicates(subset=list(column_split))"
   ]
  },
  {
   "cell_type": "code",
   "execution_count": 4,
   "id": "together-meter",
   "metadata": {
    "colab": {
     "base_uri": "https://localhost:8080/",
     "height": 314
    },
    "id": "together-meter",
    "outputId": "adf10ae5-a92b-4958-cd46-cede35730ded",
    "scrolled": false
   },
   "outputs": [
    {
     "data": {
      "text/html": [
       "<div>\n",
       "<style scoped>\n",
       "    .dataframe tbody tr th:only-of-type {\n",
       "        vertical-align: middle;\n",
       "    }\n",
       "\n",
       "    .dataframe tbody tr th {\n",
       "        vertical-align: top;\n",
       "    }\n",
       "\n",
       "    .dataframe thead th {\n",
       "        text-align: right;\n",
       "    }\n",
       "</style>\n",
       "<table border=\"1\" class=\"dataframe\">\n",
       "  <thead>\n",
       "    <tr style=\"text-align: right;\">\n",
       "      <th></th>\n",
       "      <th>popularity</th>\n",
       "      <th>acousticness</th>\n",
       "      <th>danceability</th>\n",
       "      <th>duration_ms</th>\n",
       "      <th>energy</th>\n",
       "      <th>instrumentalness</th>\n",
       "      <th>liveness</th>\n",
       "      <th>loudness</th>\n",
       "      <th>speechiness</th>\n",
       "      <th>tempo</th>\n",
       "      <th>valence</th>\n",
       "    </tr>\n",
       "  </thead>\n",
       "  <tbody>\n",
       "    <tr>\n",
       "      <th>count</th>\n",
       "      <td>191056.000000</td>\n",
       "      <td>191056.000000</td>\n",
       "      <td>191056.000000</td>\n",
       "      <td>1.910560e+05</td>\n",
       "      <td>191056.000000</td>\n",
       "      <td>191056.000000</td>\n",
       "      <td>191056.00000</td>\n",
       "      <td>191056.000000</td>\n",
       "      <td>191056.000000</td>\n",
       "      <td>191056.000000</td>\n",
       "      <td>191056.000000</td>\n",
       "    </tr>\n",
       "    <tr>\n",
       "      <th>mean</th>\n",
       "      <td>37.593517</td>\n",
       "      <td>0.390859</td>\n",
       "      <td>0.541802</td>\n",
       "      <td>2.359893e+05</td>\n",
       "      <td>0.564349</td>\n",
       "      <td>0.165507</td>\n",
       "      <td>0.22197</td>\n",
       "      <td>-9.944462</td>\n",
       "      <td>0.123924</td>\n",
       "      <td>117.426531</td>\n",
       "      <td>0.452894</td>\n",
       "    </tr>\n",
       "    <tr>\n",
       "      <th>std</th>\n",
       "      <td>17.600902</td>\n",
       "      <td>0.364142</td>\n",
       "      <td>0.188193</td>\n",
       "      <td>1.271222e+05</td>\n",
       "      <td>0.273886</td>\n",
       "      <td>0.317504</td>\n",
       "      <td>0.20747</td>\n",
       "      <td>6.296627</td>\n",
       "      <td>0.198276</td>\n",
       "      <td>31.234839</td>\n",
       "      <td>0.265445</td>\n",
       "    </tr>\n",
       "    <tr>\n",
       "      <th>min</th>\n",
       "      <td>0.000000</td>\n",
       "      <td>0.000000</td>\n",
       "      <td>0.056900</td>\n",
       "      <td>1.538700e+04</td>\n",
       "      <td>0.000020</td>\n",
       "      <td>0.000000</td>\n",
       "      <td>0.00967</td>\n",
       "      <td>-52.457000</td>\n",
       "      <td>0.022200</td>\n",
       "      <td>30.379000</td>\n",
       "      <td>0.000000</td>\n",
       "    </tr>\n",
       "    <tr>\n",
       "      <th>25%</th>\n",
       "      <td>26.000000</td>\n",
       "      <td>0.039400</td>\n",
       "      <td>0.418000</td>\n",
       "      <td>1.799070e+05</td>\n",
       "      <td>0.359000</td>\n",
       "      <td>0.000000</td>\n",
       "      <td>0.09740</td>\n",
       "      <td>-12.519000</td>\n",
       "      <td>0.036700</td>\n",
       "      <td>92.176250</td>\n",
       "      <td>0.227000</td>\n",
       "    </tr>\n",
       "    <tr>\n",
       "      <th>50%</th>\n",
       "      <td>39.000000</td>\n",
       "      <td>0.264000</td>\n",
       "      <td>0.558000</td>\n",
       "      <td>2.199105e+05</td>\n",
       "      <td>0.601000</td>\n",
       "      <td>0.000068</td>\n",
       "      <td>0.13000</td>\n",
       "      <td>-8.023000</td>\n",
       "      <td>0.049300</td>\n",
       "      <td>115.107500</td>\n",
       "      <td>0.442000</td>\n",
       "    </tr>\n",
       "    <tr>\n",
       "      <th>75%</th>\n",
       "      <td>50.000000</td>\n",
       "      <td>0.772000</td>\n",
       "      <td>0.681000</td>\n",
       "      <td>2.678600e+05</td>\n",
       "      <td>0.794000</td>\n",
       "      <td>0.071700</td>\n",
       "      <td>0.27400</td>\n",
       "      <td>-5.550000</td>\n",
       "      <td>0.099800</td>\n",
       "      <td>139.006250</td>\n",
       "      <td>0.665000</td>\n",
       "    </tr>\n",
       "    <tr>\n",
       "      <th>max</th>\n",
       "      <td>100.000000</td>\n",
       "      <td>0.996000</td>\n",
       "      <td>0.989000</td>\n",
       "      <td>5.552917e+06</td>\n",
       "      <td>0.999000</td>\n",
       "      <td>0.999000</td>\n",
       "      <td>1.00000</td>\n",
       "      <td>3.744000</td>\n",
       "      <td>0.967000</td>\n",
       "      <td>242.903000</td>\n",
       "      <td>1.000000</td>\n",
       "    </tr>\n",
       "  </tbody>\n",
       "</table>\n",
       "</div>"
      ],
      "text/plain": [
       "          popularity   acousticness  ...          tempo        valence\n",
       "count  191056.000000  191056.000000  ...  191056.000000  191056.000000\n",
       "mean       37.593517       0.390859  ...     117.426531       0.452894\n",
       "std        17.600902       0.364142  ...      31.234839       0.265445\n",
       "min         0.000000       0.000000  ...      30.379000       0.000000\n",
       "25%        26.000000       0.039400  ...      92.176250       0.227000\n",
       "50%        39.000000       0.264000  ...     115.107500       0.442000\n",
       "75%        50.000000       0.772000  ...     139.006250       0.665000\n",
       "max       100.000000       0.996000  ...     242.903000       1.000000\n",
       "\n",
       "[8 rows x 11 columns]"
      ]
     },
     "execution_count": 4,
     "metadata": {
      "tags": []
     },
     "output_type": "execute_result"
    }
   ],
   "source": [
    "data.describe()"
   ]
  },
  {
   "cell_type": "code",
   "execution_count": 5,
   "id": "cleared-gibraltar",
   "metadata": {
    "colab": {
     "base_uri": "https://localhost:8080/"
    },
    "id": "cleared-gibraltar",
    "outputId": "3e0c7865-a080-418b-b1c9-7c21513227af"
   },
   "outputs": [
    {
     "data": {
      "text/plain": [
       "Comedy              9675\n",
       "Alternative         9259\n",
       "Electronic          9161\n",
       "Classical           9018\n",
       "Anime               8935\n",
       "Soundtrack          8833\n",
       "Folk                8798\n",
       "Blues               8773\n",
       "Reggae              8712\n",
       "Dance               8657\n",
       "Jazz                8568\n",
       "Reggaeton           8551\n",
       "Opera               8280\n",
       "World               8186\n",
       "Hip-Hop             8042\n",
       "Ska                 8030\n",
       "Movie               7803\n",
       "Country             7775\n",
       "R&B                 6946\n",
       "Children’s Music    6695\n",
       "Children's Music    5403\n",
       "Soul                4912\n",
       "Indie               3993\n",
       "Pop                 3166\n",
       "Rock                3081\n",
       "Rap                 1685\n",
       "A Capella            119\n",
       "Name: genre, dtype: int64"
      ]
     },
     "execution_count": 5,
     "metadata": {
      "tags": []
     },
     "output_type": "execute_result"
    }
   ],
   "source": [
    "data['genre'].value_counts()"
   ]
  },
  {
   "cell_type": "markdown",
   "id": "behind-batman",
   "metadata": {
    "id": "behind-batman"
   },
   "source": [
    "So, we're noticing that A-capella has significantly less songs in that genre, we can either try merging it with another genre, getting more songs of that genre, or simply dropping it. For rn, let's simply drop it. The children's music also is split between Children's Music and Children’s Music let's combine those."
   ]
  },
  {
   "cell_type": "code",
   "execution_count": 6,
   "id": "sonic-serial",
   "metadata": {
    "colab": {
     "base_uri": "https://localhost:8080/"
    },
    "id": "sonic-serial",
    "outputId": "554643b3-7685-4d94-d6de-226a02eb714d",
    "scrolled": true
   },
   "outputs": [
    {
     "data": {
      "text/plain": [
       "Comedy              9675\n",
       "Alternative         9259\n",
       "Electronic          9161\n",
       "Classical           9018\n",
       "Anime               8935\n",
       "Soundtrack          8833\n",
       "Folk                8798\n",
       "Blues               8773\n",
       "Reggae              8712\n",
       "Dance               8657\n",
       "Jazz                8568\n",
       "Reggaeton           8551\n",
       "Opera               8280\n",
       "World               8186\n",
       "Hip-Hop             8042\n",
       "Ska                 8030\n",
       "Movie               7803\n",
       "Country             7775\n",
       "R&B                 6946\n",
       "Children’s Music    6695\n",
       "Children's Music    5403\n",
       "Soul                4912\n",
       "Indie               3993\n",
       "Pop                 3166\n",
       "Rock                3081\n",
       "Rap                 1685\n",
       "Name: genre, dtype: int64"
      ]
     },
     "execution_count": 6,
     "metadata": {
      "tags": []
     },
     "output_type": "execute_result"
    }
   ],
   "source": [
    "data =data.drop(data[data['genre'] == 'A Capella'].index)\n",
    "data['genre'].value_counts()"
   ]
  },
  {
   "cell_type": "code",
   "execution_count": 7,
   "id": "available-modeling",
   "metadata": {
    "colab": {
     "base_uri": "https://localhost:8080/"
    },
    "id": "available-modeling",
    "outputId": "0a6f3240-fdb4-4adf-87ec-28d8d59d75ba"
   },
   "outputs": [
    {
     "data": {
      "text/plain": [
       "Children’s Music    12098\n",
       "Comedy               9675\n",
       "Alternative          9259\n",
       "Electronic           9161\n",
       "Classical            9018\n",
       "Anime                8935\n",
       "Soundtrack           8833\n",
       "Folk                 8798\n",
       "Blues                8773\n",
       "Reggae               8712\n",
       "Dance                8657\n",
       "Jazz                 8568\n",
       "Reggaeton            8551\n",
       "Opera                8280\n",
       "World                8186\n",
       "Hip-Hop              8042\n",
       "Ska                  8030\n",
       "Movie                7803\n",
       "Country              7775\n",
       "R&B                  6946\n",
       "Soul                 4912\n",
       "Indie                3993\n",
       "Pop                  3166\n",
       "Rock                 3081\n",
       "Rap                  1685\n",
       "Name: genre, dtype: int64"
      ]
     },
     "execution_count": 7,
     "metadata": {
      "tags": []
     },
     "output_type": "execute_result"
    }
   ],
   "source": [
    "replace_Children = {'genre':     {\"Children's Music\": 'Children’s Music'}}\n",
    "data = data.replace(replace_Children)\n",
    "data['genre'].value_counts()"
   ]
  },
  {
   "cell_type": "code",
   "execution_count": 8,
   "id": "recorded-shadow",
   "metadata": {
    "colab": {
     "base_uri": "https://localhost:8080/",
     "height": 869
    },
    "id": "recorded-shadow",
    "outputId": "9b7527c5-8b37-4570-b872-810cb40a09be"
   },
   "outputs": [
    {
     "data": {
      "text/plain": [
       "array([[<matplotlib.axes._subplots.AxesSubplot object at 0x7f2d630a7150>,\n",
       "        <matplotlib.axes._subplots.AxesSubplot object at 0x7f2d6308dfd0>,\n",
       "        <matplotlib.axes._subplots.AxesSubplot object at 0x7f2d630f5c90>],\n",
       "       [<matplotlib.axes._subplots.AxesSubplot object at 0x7f2d630e00d0>,\n",
       "        <matplotlib.axes._subplots.AxesSubplot object at 0x7f2d63168390>,\n",
       "        <matplotlib.axes._subplots.AxesSubplot object at 0x7f2d631df7d0>],\n",
       "       [<matplotlib.axes._subplots.AxesSubplot object at 0x7f2d63585390>,\n",
       "        <matplotlib.axes._subplots.AxesSubplot object at 0x7f2d635ef390>,\n",
       "        <matplotlib.axes._subplots.AxesSubplot object at 0x7f2d635ef350>],\n",
       "       [<matplotlib.axes._subplots.AxesSubplot object at 0x7f2d637a4110>,\n",
       "        <matplotlib.axes._subplots.AxesSubplot object at 0x7f2d63b0a790>,\n",
       "        <matplotlib.axes._subplots.AxesSubplot object at 0x7f2d63b76a90>]],\n",
       "      dtype=object)"
      ]
     },
     "execution_count": 8,
     "metadata": {
      "tags": []
     },
     "output_type": "execute_result"
    },
    {
     "data": {
      "image/png": "[encoded data removed]",
      "text/plain": [
       "<Figure size 1440x1080 with 12 Axes>"
      ]
     },
     "metadata": {
      "needs_background": "light",
      "tags": []
     },
     "output_type": "display_data"
    }
   ],
   "source": [
    "data.hist(bins=50,figsize=(20,15))"
   ]
  },
  {
   "cell_type": "markdown",
   "id": "closed-hardwood",
   "metadata": {
    "id": "closed-hardwood"
   },
   "source": [
    "So we're noticing that speechiness, loudness,duration,liveness, and instrumentalness are a bit skewed let's check this to be sure."
   ]
  },
  {
   "cell_type": "code",
   "execution_count": 9,
   "id": "worth-lover",
   "metadata": {
    "colab": {
     "base_uri": "https://localhost:8080/"
    },
    "id": "worth-lover",
    "outputId": "03dfd055-d60b-4256-e1ba-1fedf1c3421e"
   },
   "outputs": [
    {
     "data": {
      "text/plain": [
       "popularity         -0.199448\n",
       "acousticness        0.425620\n",
       "danceability       -0.332461\n",
       "duration_ms         9.565596\n",
       "energy             -0.360381\n",
       "instrumentalness    1.640564\n",
       "liveness            1.987244\n",
       "loudness           -1.527640\n",
       "speechiness         3.199962\n",
       "tempo               0.404330\n",
       "valence             0.145504\n",
       "dtype: float64"
      ]
     },
     "execution_count": 9,
     "metadata": {
      "tags": []
     },
     "output_type": "execute_result"
    }
   ],
   "source": [
    "data.skew(axis = 0, skipna = True)"
   ]
  },
  {
   "cell_type": "markdown",
   "id": "statistical-cylinder",
   "metadata": {
    "id": "statistical-cylinder"
   },
   "source": [
    "This confirms our suspicions so far, there's definitedly some skewedness going on in those columns lets apply some log transforms to see if this works "
   ]
  },
  {
   "cell_type": "code",
   "execution_count": 10,
   "id": "dutch-period",
   "metadata": {
    "colab": {
     "base_uri": "https://localhost:8080/"
    },
    "id": "dutch-period",
    "outputId": "5dab7da2-6407-422e-cb3a-86bb3ffc3581"
   },
   "outputs": [
    {
     "data": {
      "text/plain": [
       "-0.46015737744988033"
      ]
     },
     "execution_count": 10,
     "metadata": {
      "tags": []
     },
     "output_type": "execute_result"
    }
   ],
   "source": [
    "data['duration_ms'] =  np.log(data['duration_ms'])\n",
    "data['duration_ms'].skew()"
   ]
  },
  {
   "cell_type": "markdown",
   "id": "southern-schedule",
   "metadata": {
    "id": "southern-schedule"
   },
   "source": [
    "That fixed duration_ms let's try speechiness, log didn't work on this so we'll use boxcox"
   ]
  },
  {
   "cell_type": "code",
   "execution_count": 11,
   "id": "global-montgomery",
   "metadata": {
    "colab": {
     "base_uri": "https://localhost:8080/"
    },
    "id": "global-montgomery",
    "outputId": "4e9cabd1-ccd1-4752-fdb8-cbe2624b36c5"
   },
   "outputs": [
    {
     "data": {
      "text/plain": [
       "0.31245261459621987"
      ]
     },
     "execution_count": 11,
     "metadata": {
      "tags": []
     },
     "output_type": "execute_result"
    }
   ],
   "source": [
    "data['speechiness'] = stats.boxcox(data['speechiness'])[0]\n",
    "data['speechiness'].skew()"
   ]
  },
  {
   "cell_type": "markdown",
   "id": "aware-fancy",
   "metadata": {
    "id": "aware-fancy"
   },
   "source": [
    "Instrumentalness has 0 values so in order to log it we need to add a constant."
   ]
  },
  {
   "cell_type": "code",
   "execution_count": 12,
   "id": "wired-employee",
   "metadata": {
    "colab": {
     "base_uri": "https://localhost:8080/"
    },
    "id": "wired-employee",
    "outputId": "1718a40d-159f-49dc-a244-d9416b3641b8"
   },
   "outputs": [
    {
     "data": {
      "text/plain": [
       "0.007224877934534901"
      ]
     },
     "execution_count": 12,
     "metadata": {
      "tags": []
     },
     "output_type": "execute_result"
    }
   ],
   "source": [
    "data['instrumentalness'] =  np.log(data['instrumentalness']+0.00000001)\n",
    "data['instrumentalness'].skew()"
   ]
  },
  {
   "cell_type": "markdown",
   "id": "statistical-carol",
   "metadata": {
    "id": "statistical-carol"
   },
   "source": [
    "Loudness can vary postively and negatively at values up to 60 so lets add a constant"
   ]
  },
  {
   "cell_type": "code",
   "execution_count": 13,
   "id": "human-brunswick",
   "metadata": {
    "colab": {
     "base_uri": "https://localhost:8080/"
    },
    "id": "human-brunswick",
    "outputId": "ae3079fa-d76d-454e-9c8d-c64b2947d00e"
   },
   "outputs": [
    {
     "data": {
      "text/plain": [
       "-0.23736423057249675"
      ]
     },
     "execution_count": 13,
     "metadata": {
      "tags": []
     },
     "output_type": "execute_result"
    }
   ],
   "source": [
    "data['loudness'] =  stats.boxcox((data['loudness']+100))[0]\n",
    "data['loudness'].skew()"
   ]
  },
  {
   "cell_type": "markdown",
   "id": "radical-explorer",
   "metadata": {
    "id": "radical-explorer"
   },
   "source": [
    "Let's use the boxcox method this as it's left skewed."
   ]
  },
  {
   "cell_type": "code",
   "execution_count": 14,
   "id": "associate-boost",
   "metadata": {
    "colab": {
     "base_uri": "https://localhost:8080/"
    },
    "id": "associate-boost",
    "outputId": "8b32ab53-498b-4d06-a492-04cc07ca1faf"
   },
   "outputs": [
    {
     "data": {
      "text/plain": [
       "0.034250611977714694"
      ]
     },
     "execution_count": 14,
     "metadata": {
      "tags": []
     },
     "output_type": "execute_result"
    }
   ],
   "source": [
    "data['liveness'] =  stats.boxcox(data['liveness']+0.0000001)[0]\n",
    "data['liveness'].skew()"
   ]
  },
  {
   "cell_type": "markdown",
   "id": "stunning-isaac",
   "metadata": {
    "id": "stunning-isaac"
   },
   "source": [
    "Let's put this in the dataset and check the full dataset again."
   ]
  },
  {
   "cell_type": "code",
   "execution_count": 15,
   "id": "sporting-involvement",
   "metadata": {
    "colab": {
     "base_uri": "https://localhost:8080/"
    },
    "id": "sporting-involvement",
    "outputId": "01a7e75d-fe64-42ef-b542-a93733310ff0"
   },
   "outputs": [
    {
     "data": {
      "text/plain": [
       "popularity         -0.199448\n",
       "acousticness        0.425620\n",
       "danceability       -0.332461\n",
       "duration_ms        -0.460157\n",
       "energy             -0.360381\n",
       "instrumentalness    0.007225\n",
       "liveness            0.034251\n",
       "loudness           -0.237364\n",
       "speechiness         0.312453\n",
       "tempo               0.404330\n",
       "valence             0.145504\n",
       "dtype: float64"
      ]
     },
     "execution_count": 15,
     "metadata": {
      "tags": []
     },
     "output_type": "execute_result"
    }
   ],
   "source": [
    "data.skew()"
   ]
  },
  {
   "cell_type": "markdown",
   "id": "cultural-diana",
   "metadata": {
    "id": "cultural-diana"
   },
   "source": [
    "Let's remove all of the columns we don't need,NOTE: We currently do not store popularity of tracks but it would not be diffucult to store it. Let's keep it for now, and if does have a signficant effect on the metrics going forward we'll use it."
   ]
  },
  {
   "cell_type": "code",
   "execution_count": 16,
   "id": "automated-crazy",
   "metadata": {
    "id": "automated-crazy"
   },
   "outputs": [],
   "source": [
    "if 'artist_name' in data.columns or 'track_id' in data.columns or 'track_name' in data.columns:\n",
    "    column_split.remove('artist_name')\n",
    "    column_split.remove('track_name')\n",
    "    column_split.remove('track_id')\n",
    "    data = data.drop(['artist_name', 'track_name','track_id'], axis=1)"
   ]
  },
  {
   "cell_type": "markdown",
   "id": "moral-riding",
   "metadata": {
    "id": "moral-riding"
   },
   "source": [
    "We need to to do some encoding for the categorical features , so let's start with the key. Let's get all of the values."
   ]
  },
  {
   "cell_type": "code",
   "execution_count": 17,
   "id": "greatest-population",
   "metadata": {
    "colab": {
     "base_uri": "https://localhost:8080/"
    },
    "id": "greatest-population",
    "outputId": "edae6228-8930-4738-d056-6a2628495fef"
   },
   "outputs": [
    {
     "data": {
      "text/plain": [
       "array(['C#', 'F#', 'C', 'F', 'G', 'E', 'D#', 'G#', 'D', 'A#', 'A', 'B'],\n",
       "      dtype=object)"
      ]
     },
     "execution_count": 17,
     "metadata": {
      "tags": []
     },
     "output_type": "execute_result"
    }
   ],
   "source": [
    "data['key'].unique()"
   ]
  },
  {
   "cell_type": "code",
   "execution_count": 18,
   "id": "biological-fellowship",
   "metadata": {
    "colab": {
     "base_uri": "https://localhost:8080/"
    },
    "id": "biological-fellowship",
    "outputId": "65f25fb9-5077-438f-fbda-4615d75c3681"
   },
   "outputs": [
    {
     "data": {
      "text/plain": [
       "array(['Major', 'Minor'], dtype=object)"
      ]
     },
     "execution_count": 18,
     "metadata": {
      "tags": []
     },
     "output_type": "execute_result"
    }
   ],
   "source": [
    "data['mode'].unique()"
   ]
  },
  {
   "cell_type": "code",
   "execution_count": 19,
   "id": "subtle-group",
   "metadata": {
    "colab": {
     "base_uri": "https://localhost:8080/"
    },
    "id": "subtle-group",
    "outputId": "d7673da2-cc4e-433d-dd3b-4cb201871db3"
   },
   "outputs": [
    {
     "data": {
      "text/plain": [
       "array(['4/4', '5/4', '3/4', '1/4', '0/4'], dtype=object)"
      ]
     },
     "execution_count": 19,
     "metadata": {
      "tags": []
     },
     "output_type": "execute_result"
    }
   ],
   "source": [
    "data['time_signature'].unique()"
   ]
  },
  {
   "cell_type": "markdown",
   "id": "ranging-punishment",
   "metadata": {
    "id": "ranging-punishment"
   },
   "source": [
    "Spotify uses pitch encoding to encode keys so we'll use the find and replace from pandas."
   ]
  },
  {
   "cell_type": "code",
   "execution_count": 20,
   "id": "resident-hamburg",
   "metadata": {
    "id": "resident-hamburg"
   },
   "outputs": [],
   "source": [
    "encode = {'mode':     {'Major': 1, 'Minor': 0},\n",
    "                'time_signature' :{'5/4': 5, '4/4' : 4, \n",
    "                                   '3/4': 3, '2/4': 2, \n",
    "                                   '1/4' : 1, '0/4' : 0},\n",
    "                'key': {'G': 7, 'E': 4, 'A': 9, 'B': 11,\n",
    "                        'F': 5, 'G#': 8, 'C':0, 'C#': 1, \n",
    "                        'D':2, 'D#':3, 'F#': 6, 'A#' : 10}}\n",
    "data = data.replace(encode)"
   ]
  },
  {
   "cell_type": "markdown",
   "id": "derived-olive",
   "metadata": {
    "id": "derived-olive"
   },
   "source": [
    "Let's do a check on the encoded values."
   ]
  },
  {
   "cell_type": "code",
   "execution_count": 21,
   "id": "active-turner",
   "metadata": {
    "colab": {
     "base_uri": "https://localhost:8080/",
     "height": 937
    },
    "id": "active-turner",
    "outputId": "5acd5f95-57e7-41cc-faad-9e91a7c51be3"
   },
   "outputs": [
    {
     "data": {
      "text/plain": [
       "array([[<matplotlib.axes._subplots.AxesSubplot object at 0x7f2d62d7fb10>,\n",
       "        <matplotlib.axes._subplots.AxesSubplot object at 0x7f2d62dedbd0>,\n",
       "        <matplotlib.axes._subplots.AxesSubplot object at 0x7f2d62dd1890>,\n",
       "        <matplotlib.axes._subplots.AxesSubplot object at 0x7f2d63095b10>],\n",
       "       [<matplotlib.axes._subplots.AxesSubplot object at 0x7f2d630cc990>,\n",
       "        <matplotlib.axes._subplots.AxesSubplot object at 0x7f2d63134e10>,\n",
       "        <matplotlib.axes._subplots.AxesSubplot object at 0x7f2d6311f050>,\n",
       "        <matplotlib.axes._subplots.AxesSubplot object at 0x7f2d63108fd0>],\n",
       "       [<matplotlib.axes._subplots.AxesSubplot object at 0x7f2d63108f90>,\n",
       "        <matplotlib.axes._subplots.AxesSubplot object at 0x7f2d63172a50>,\n",
       "        <matplotlib.axes._subplots.AxesSubplot object at 0x7f2d63142350>,\n",
       "        <matplotlib.axes._subplots.AxesSubplot object at 0x7f2d63199ed0>],\n",
       "       [<matplotlib.axes._subplots.AxesSubplot object at 0x7f2d63184b50>,\n",
       "        <matplotlib.axes._subplots.AxesSubplot object at 0x7f2d631eda90>,\n",
       "        <matplotlib.axes._subplots.AxesSubplot object at 0x7f2d631d24d0>,\n",
       "        <matplotlib.axes._subplots.AxesSubplot object at 0x7f2d632398d0>]],\n",
       "      dtype=object)"
      ]
     },
     "execution_count": 21,
     "metadata": {
      "tags": []
     },
     "output_type": "execute_result"
    },
    {
     "data": {
      "image/png": "[encoded data removed]",
      "text/plain": [
       "<Figure size 1440x1080 with 16 Axes>"
      ]
     },
     "metadata": {
      "needs_background": "light",
      "tags": []
     },
     "output_type": "display_data"
    }
   ],
   "source": [
    "data.hist(bins=50,figsize=(20,15))"
   ]
  },
  {
   "cell_type": "markdown",
   "id": "worthy-genealogy",
   "metadata": {
    "id": "worthy-genealogy"
   },
   "source": [
    "Time signature looks pretty skewed let's check."
   ]
  },
  {
   "cell_type": "code",
   "execution_count": 22,
   "id": "earlier-cleaners",
   "metadata": {
    "colab": {
     "base_uri": "https://localhost:8080/"
    },
    "id": "earlier-cleaners",
    "outputId": "ceef32bf-53ba-43e4-bb1b-c47b4ffb1ee6"
   },
   "outputs": [
    {
     "data": {
      "text/plain": [
       "popularity         -0.199448\n",
       "acousticness        0.425620\n",
       "danceability       -0.332461\n",
       "duration_ms        -0.460157\n",
       "energy             -0.360381\n",
       "instrumentalness    0.007225\n",
       "key                 0.016003\n",
       "liveness            0.034251\n",
       "loudness           -0.237364\n",
       "mode               -0.667720\n",
       "speechiness         0.312453\n",
       "tempo               0.404330\n",
       "time_signature     -2.970230\n",
       "valence             0.145504\n",
       "dtype: float64"
      ]
     },
     "execution_count": 22,
     "metadata": {
      "tags": []
     },
     "output_type": "execute_result"
    }
   ],
   "source": [
    "data.skew()"
   ]
  },
  {
   "cell_type": "markdown",
   "id": "unsigned-nirvana",
   "metadata": {
    "id": "unsigned-nirvana"
   },
   "source": [
    "Yep, let's add a constant and try the boxcox"
   ]
  },
  {
   "cell_type": "code",
   "execution_count": 23,
   "id": "generic-pickup",
   "metadata": {
    "colab": {
     "base_uri": "https://localhost:8080/"
    },
    "id": "generic-pickup",
    "outputId": "e9b21b83-00ac-4462-8372-a2d6b8ab5f7e"
   },
   "outputs": [
    {
     "data": {
      "text/plain": [
       "0.4735020588507424"
      ]
     },
     "execution_count": 23,
     "metadata": {
      "tags": []
     },
     "output_type": "execute_result"
    }
   ],
   "source": [
    "data['time_signature'] = stats.boxcox(data['time_signature'] + 0.1)[0]\n",
    "data['time_signature'].skew()"
   ]
  },
  {
   "cell_type": "code",
   "execution_count": 24,
   "id": "rough-rolling",
   "metadata": {
    "colab": {
     "base_uri": "https://localhost:8080/",
     "height": 937
    },
    "id": "rough-rolling",
    "outputId": "404f2a25-4eb3-4f3c-d73f-55ac7529dd78",
    "scrolled": true
   },
   "outputs": [
    {
     "data": {
      "text/plain": [
       "array([[<matplotlib.axes._subplots.AxesSubplot object at 0x7f2d641ab9d0>,\n",
       "        <matplotlib.axes._subplots.AxesSubplot object at 0x7f2d64199550>,\n",
       "        <matplotlib.axes._subplots.AxesSubplot object at 0x7f2d6418b110>,\n",
       "        <matplotlib.axes._subplots.AxesSubplot object at 0x7f2d6417cd10>],\n",
       "       [<matplotlib.axes._subplots.AxesSubplot object at 0x7f2d641ef250>,\n",
       "        <matplotlib.axes._subplots.AxesSubplot object at 0x7f2d641dc450>,\n",
       "        <matplotlib.axes._subplots.AxesSubplot object at 0x7f2d644a0150>,\n",
       "        <matplotlib.axes._subplots.AxesSubplot object at 0x7f2d6448d9d0>],\n",
       "       [<matplotlib.axes._subplots.AxesSubplot object at 0x7f2d64488bd0>,\n",
       "        <matplotlib.axes._subplots.AxesSubplot object at 0x7f2d644eec10>,\n",
       "        <matplotlib.axes._subplots.AxesSubplot object at 0x7f2d644d4850>,\n",
       "        <matplotlib.axes._subplots.AxesSubplot object at 0x7f2d644c8850>],\n",
       "       [<matplotlib.axes._subplots.AxesSubplot object at 0x7f2d645384d0>,\n",
       "        <matplotlib.axes._subplots.AxesSubplot object at 0x7f2d6452b410>,\n",
       "        <matplotlib.axes._subplots.AxesSubplot object at 0x7f2d64520690>,\n",
       "        <matplotlib.axes._subplots.AxesSubplot object at 0x7f2d644fc8d0>]],\n",
       "      dtype=object)"
      ]
     },
     "execution_count": 24,
     "metadata": {
      "tags": []
     },
     "output_type": "execute_result"
    },
    {
     "data": {
      "image/png": "[encoded data removed]",
      "text/plain": [
       "<Figure size 1440x1080 with 16 Axes>"
      ]
     },
     "metadata": {
      "needs_background": "light",
      "tags": []
     },
     "output_type": "display_data"
    }
   ],
   "source": [
    "data.hist(bins=50,figsize=(20,15))"
   ]
  },
  {
   "cell_type": "markdown",
   "id": "comic-rebel",
   "metadata": {
    "id": "comic-rebel"
   },
   "source": [
    "While we're doing some data analysis, let's use a one hot encoder to make stuff easier to see(we'll use binary encoders laters)"
   ]
  },
  {
   "cell_type": "code",
   "execution_count": 25,
   "id": "affiliated-correspondence",
   "metadata": {
    "colab": {
     "base_uri": "https://localhost:8080/"
    },
    "id": "affiliated-correspondence",
    "outputId": "c5585d2b-ecd9-4e17-a886-621134e9ad01"
   },
   "outputs": [
    {
     "name": "stderr",
     "output_type": "stream",
     "text": [
      "/usr/local/lib/python3.7/dist-packages/category_encoders/utils.py:21: FutureWarning: is_categorical is deprecated and will be removed in a future version.  Use is_categorical_dtype instead\n",
      "  elif pd.api.types.is_categorical(cols):\n"
     ]
    }
   ],
   "source": [
    "encoder = ce.one_hot.OneHotEncoder(cols=['genre'],return_df=True, use_cat_names=True)\n",
    "one_hot = encoder.fit_transform(data['genre'])\n",
    "one_hot_df = pd.DataFrame(one_hot)\n",
    "test_data  = pd.concat([data[column_split], one_hot_df], \n",
    "          axis=1)"
   ]
  },
  {
   "cell_type": "code",
   "execution_count": 26,
   "id": "interpreted-provision",
   "metadata": {
    "colab": {
     "base_uri": "https://localhost:8080/"
    },
    "id": "interpreted-provision",
    "outputId": "d03e7a70-5a90-46c8-d0ca-18bd876e4d58"
   },
   "outputs": [
    {
     "name": "stdout",
     "output_type": "stream",
     "text": [
      "Genre:genre_Movie\n",
      "\n",
      "genre_Movie               1.000000\n",
      "acousticness              0.174014\n",
      "mode                      0.043897\n",
      "liveness                  0.022250\n",
      "valence                  -0.004060\n",
      "key                      -0.009799\n",
      "genre_Rap                -0.019477\n",
      "tempo                    -0.023032\n",
      "time_signature           -0.024050\n",
      "genre_Rock               -0.026435\n",
      "genre_Pop                -0.026803\n",
      "genre_Indie              -0.030168\n",
      "genre_Soul               -0.033542\n",
      "speechiness              -0.034051\n",
      "instrumentalness         -0.035751\n",
      "genre_R&B                -0.040107\n",
      "genre_Country            -0.042528\n",
      "genre_Ska                -0.043250\n",
      "genre_Hip-Hop            -0.043284\n",
      "genre_World              -0.043687\n",
      "genre_Opera              -0.043948\n",
      "genre_Reggaeton          -0.044695\n",
      "genre_Jazz               -0.044741\n",
      "genre_Dance              -0.044984\n",
      "genre_Reggae             -0.045134\n",
      "genre_Blues              -0.045299\n",
      "genre_Folk               -0.045367\n",
      "genre_Soundtrack         -0.045461\n",
      "genre_Anime              -0.045736\n",
      "genre_Classical          -0.045958\n",
      "genre_Electronic         -0.046339\n",
      "genre_Alternative        -0.046599\n",
      "genre_Comedy             -0.047689\n",
      "genre_Children’s Music   -0.053687\n",
      "danceability             -0.055677\n",
      "duration_ms              -0.096926\n",
      "loudness                 -0.124541\n",
      "energy                   -0.146147\n",
      "popularity               -0.298731\n",
      "Name: genre_Movie, dtype: float64\n",
      "Genre:genre_R&B\n",
      "\n",
      "genre_R&B                 1.000000\n",
      "popularity                0.135754\n",
      "danceability              0.103119\n",
      "speechiness               0.074932\n",
      "loudness                  0.047950\n",
      "time_signature            0.027249\n",
      "key                       0.008190\n",
      "duration_ms               0.005161\n",
      "valence                  -0.004401\n",
      "energy                   -0.006831\n",
      "tempo                    -0.009681\n",
      "genre_Rap                -0.018334\n",
      "genre_Rock               -0.024883\n",
      "genre_Pop                -0.025230\n",
      "genre_Indie              -0.028396\n",
      "liveness                 -0.029599\n",
      "genre_Soul               -0.031573\n",
      "genre_Country            -0.040031\n",
      "genre_Movie              -0.040107\n",
      "genre_Ska                -0.040711\n",
      "genre_Hip-Hop            -0.040743\n",
      "genre_World              -0.041122\n",
      "genre_Opera              -0.041368\n",
      "genre_Reggaeton          -0.042071\n",
      "genre_Jazz               -0.042115\n",
      "genre_Dance              -0.042343\n",
      "genre_Reggae             -0.042484\n",
      "genre_Blues              -0.042639\n",
      "genre_Folk               -0.042703\n",
      "genre_Soundtrack         -0.042792\n",
      "genre_Anime              -0.043051\n",
      "genre_Classical          -0.043260\n",
      "genre_Electronic         -0.043619\n",
      "genre_Alternative        -0.043863\n",
      "genre_Comedy             -0.044889\n",
      "acousticness             -0.046027\n",
      "genre_Children’s Music   -0.050535\n",
      "mode                     -0.057023\n",
      "instrumentalness         -0.081215\n",
      "Name: genre_R&B, dtype: float64\n",
      "Genre:genre_Alternative\n",
      "\n",
      "genre_Alternative         1.000000\n",
      "popularity                0.161723\n",
      "loudness                  0.129576\n",
      "energy                    0.121221\n",
      "tempo                     0.036881\n",
      "duration_ms               0.024930\n",
      "time_signature            0.020365\n",
      "key                       0.002483\n",
      "danceability             -0.000010\n",
      "valence                  -0.002903\n",
      "speechiness              -0.007032\n",
      "liveness                 -0.008601\n",
      "mode                     -0.011441\n",
      "instrumentalness         -0.011838\n",
      "genre_Rap                -0.021302\n",
      "genre_Rock               -0.028911\n",
      "genre_Pop                -0.029314\n",
      "genre_Indie              -0.032993\n",
      "genre_Soul               -0.036684\n",
      "genre_R&B                -0.043863\n",
      "genre_Country            -0.046512\n",
      "genre_Movie              -0.046599\n",
      "genre_Ska                -0.047301\n",
      "genre_Hip-Hop            -0.047338\n",
      "genre_World              -0.047779\n",
      "genre_Opera              -0.048065\n",
      "genre_Reggaeton          -0.048881\n",
      "genre_Jazz               -0.048932\n",
      "genre_Dance              -0.049198\n",
      "genre_Reggae             -0.049361\n",
      "genre_Blues              -0.049542\n",
      "genre_Folk               -0.049616\n",
      "genre_Soundtrack         -0.049719\n",
      "genre_Anime              -0.050020\n",
      "genre_Classical          -0.050263\n",
      "genre_Electronic         -0.050680\n",
      "genre_Comedy             -0.052156\n",
      "genre_Children’s Music   -0.058716\n",
      "acousticness             -0.141541\n",
      "Name: genre_Alternative, dtype: float64\n",
      "Genre:genre_Country\n",
      "\n",
      "genre_Country             1.000000\n",
      "mode                      0.096183\n",
      "popularity                0.084738\n",
      "loudness                  0.080830\n",
      "valence                   0.064530\n",
      "energy                    0.054504\n",
      "tempo                     0.040310\n",
      "danceability              0.037897\n",
      "time_signature            0.012745\n",
      "key                       0.001287\n",
      "duration_ms              -0.005926\n",
      "liveness                 -0.015016\n",
      "genre_Rap                -0.019441\n",
      "genre_Rock               -0.026386\n",
      "genre_Pop                -0.026753\n",
      "genre_Indie              -0.030111\n",
      "genre_Soul               -0.033479\n",
      "genre_R&B                -0.040031\n",
      "genre_Movie              -0.042528\n",
      "genre_Ska                -0.043169\n",
      "genre_Hip-Hop            -0.043203\n",
      "genre_World              -0.043605\n",
      "genre_Opera              -0.043866\n",
      "genre_Reggaeton          -0.044611\n",
      "genre_Jazz               -0.044658\n",
      "genre_Dance              -0.044900\n",
      "genre_Reggae             -0.045049\n",
      "genre_Blues              -0.045214\n",
      "genre_Folk               -0.045282\n",
      "genre_Soundtrack         -0.045376\n",
      "genre_Anime              -0.045650\n",
      "genre_Classical          -0.045872\n",
      "genre_Electronic         -0.046253\n",
      "genre_Alternative        -0.046512\n",
      "genre_Comedy             -0.047600\n",
      "genre_Children’s Music   -0.053587\n",
      "acousticness             -0.068512\n",
      "instrumentalness         -0.118101\n",
      "speechiness              -0.153451\n",
      "Name: genre_Country, dtype: float64\n",
      "Genre:genre_Dance\n",
      "\n",
      "genre_Dance               1.000000\n",
      "popularity                0.243166\n",
      "loudness                  0.149131\n",
      "danceability              0.111369\n",
      "energy                    0.106412\n",
      "valence                   0.053069\n",
      "time_signature            0.034295\n",
      "tempo                     0.023594\n",
      "duration_ms               0.014808\n",
      "key                       0.000003\n",
      "speechiness              -0.002174\n",
      "genre_Rap                -0.020563\n",
      "liveness                 -0.027529\n",
      "mode                     -0.027666\n",
      "genre_Rock               -0.027909\n",
      "genre_Pop                -0.028298\n",
      "genre_Indie              -0.031850\n",
      "genre_Soul               -0.035413\n",
      "genre_R&B                -0.042343\n",
      "genre_Country            -0.044900\n",
      "genre_Movie              -0.044984\n",
      "genre_Ska                -0.045662\n",
      "genre_Hip-Hop            -0.045698\n",
      "genre_World              -0.046123\n",
      "genre_Opera              -0.046399\n",
      "genre_Reggaeton          -0.047187\n",
      "genre_Jazz               -0.047237\n",
      "genre_Reggae             -0.047651\n",
      "genre_Blues              -0.047825\n",
      "genre_Folk               -0.047897\n",
      "genre_Soundtrack         -0.047996\n",
      "genre_Anime              -0.048286\n",
      "genre_Classical          -0.048521\n",
      "genre_Electronic         -0.048923\n",
      "genre_Alternative        -0.049198\n",
      "genre_Comedy             -0.050348\n",
      "genre_Children’s Music   -0.056681\n",
      "instrumentalness         -0.100461\n",
      "acousticness             -0.142424\n",
      "Name: genre_Dance, dtype: float64\n",
      "Genre:genre_Electronic\n",
      "\n",
      "genre_Electronic          1.000000\n",
      "instrumentalness          0.190845\n",
      "energy                    0.143156\n",
      "loudness                  0.113620\n",
      "danceability              0.091963\n",
      "duration_ms               0.083359\n",
      "tempo                     0.060903\n",
      "speechiness               0.033963\n",
      "time_signature            0.032318\n",
      "key                       0.011106\n",
      "popularity                0.000070\n",
      "liveness                 -0.005701\n",
      "genre_Rap                -0.021183\n",
      "genre_Rock               -0.028750\n",
      "genre_Pop                -0.029150\n",
      "genre_Indie              -0.032809\n",
      "genre_Soul               -0.036479\n",
      "genre_R&B                -0.043619\n",
      "genre_Country            -0.046253\n",
      "genre_Movie              -0.046339\n",
      "genre_Ska                -0.047038\n",
      "genre_Hip-Hop            -0.047074\n",
      "genre_World              -0.047513\n",
      "genre_Opera              -0.047797\n",
      "genre_Reggaeton          -0.048609\n",
      "genre_Jazz               -0.048659\n",
      "genre_Dance              -0.048923\n",
      "genre_Reggae             -0.049086\n",
      "genre_Blues              -0.049266\n",
      "genre_Folk               -0.049339\n",
      "genre_Soundtrack         -0.049442\n",
      "genre_Anime              -0.049741\n",
      "genre_Classical          -0.049983\n",
      "genre_Alternative        -0.050680\n",
      "genre_Comedy             -0.051865\n",
      "valence                  -0.057186\n",
      "genre_Children’s Music   -0.058389\n",
      "mode                     -0.059990\n",
      "acousticness             -0.167035\n",
      "Name: genre_Electronic, dtype: float64\n",
      "Genre:genre_Anime\n",
      "\n",
      "genre_Anime               1.000000\n",
      "loudness                  0.104987\n",
      "energy                    0.081548\n",
      "tempo                     0.065281\n",
      "instrumentalness          0.041902\n",
      "time_signature            0.003760\n",
      "key                      -0.000187\n",
      "duration_ms              -0.007040\n",
      "liveness                 -0.008053\n",
      "valence                  -0.009423\n",
      "mode                     -0.017320\n",
      "genre_Rap                -0.020907\n",
      "genre_Rock               -0.028375\n",
      "genre_Pop                -0.028771\n",
      "genre_Indie              -0.032382\n",
      "genre_Soul               -0.036004\n",
      "genre_R&B                -0.043051\n",
      "genre_Country            -0.045650\n",
      "genre_Movie              -0.045736\n",
      "genre_Ska                -0.046425\n",
      "genre_Hip-Hop            -0.046461\n",
      "genre_World              -0.046894\n",
      "genre_Opera              -0.047174\n",
      "genre_Reggaeton          -0.047976\n",
      "genre_Jazz               -0.048026\n",
      "genre_Dance              -0.048286\n",
      "genre_Reggae             -0.048447\n",
      "genre_Blues              -0.048624\n",
      "genre_Folk               -0.048697\n",
      "genre_Soundtrack         -0.048798\n",
      "genre_Classical          -0.049332\n",
      "genre_Electronic         -0.049741\n",
      "genre_Alternative        -0.050020\n",
      "genre_Comedy             -0.051190\n",
      "speechiness              -0.053752\n",
      "genre_Children’s Music   -0.057628\n",
      "acousticness             -0.063119\n",
      "danceability             -0.082178\n",
      "popularity               -0.168213\n",
      "Name: genre_Anime, dtype: float64\n",
      "Genre:genre_Folk\n",
      "\n",
      "genre_Folk                1.000000\n",
      "popularity                0.153095\n",
      "mode                      0.058569\n",
      "acousticness              0.049328\n",
      "instrumentalness          0.031544\n",
      "duration_ms               0.022927\n",
      "tempo                     0.008522\n",
      "time_signature           -0.002369\n",
      "key                      -0.009629\n",
      "valence                  -0.014857\n",
      "danceability             -0.019181\n",
      "genre_Rap                -0.020738\n",
      "genre_Rock               -0.028146\n",
      "genre_Pop                -0.028539\n",
      "genre_Indie              -0.032121\n",
      "genre_Soul               -0.035714\n",
      "loudness                 -0.035753\n",
      "liveness                 -0.042480\n",
      "genre_R&B                -0.042703\n",
      "genre_Country            -0.045282\n",
      "genre_Movie              -0.045367\n",
      "genre_Ska                -0.046050\n",
      "genre_Hip-Hop            -0.046086\n",
      "genre_World              -0.046515\n",
      "genre_Opera              -0.046794\n",
      "genre_Reggaeton          -0.047589\n",
      "genre_Jazz               -0.047638\n",
      "genre_Dance              -0.047897\n",
      "genre_Reggae             -0.048056\n",
      "genre_Blues              -0.048232\n",
      "genre_Soundtrack         -0.048404\n",
      "genre_Anime              -0.048697\n",
      "genre_Classical          -0.048934\n",
      "genre_Electronic         -0.049339\n",
      "genre_Alternative        -0.049616\n",
      "genre_Comedy             -0.050776\n",
      "genre_Children’s Music   -0.057163\n",
      "energy                   -0.062837\n",
      "speechiness              -0.159869\n",
      "Name: genre_Folk, dtype: float64\n",
      "Genre:genre_Blues\n",
      "\n",
      "genre_Blues               1.000000\n",
      "valence                   0.106840\n",
      "instrumentalness          0.055143\n",
      "duration_ms               0.045334\n",
      "energy                    0.030259\n",
      "tempo                     0.025739\n",
      "mode                      0.025180\n",
      "liveness                  0.008464\n",
      "key                       0.003214\n",
      "loudness                  0.001729\n",
      "time_signature           -0.012721\n",
      "danceability             -0.014143\n",
      "genre_Rap                -0.020707\n",
      "genre_Rock               -0.028105\n",
      "genre_Pop                -0.028496\n",
      "genre_Indie              -0.032073\n",
      "acousticness             -0.034422\n",
      "genre_Soul               -0.035660\n",
      "popularity               -0.041680\n",
      "genre_R&B                -0.042639\n",
      "genre_Country            -0.045214\n",
      "genre_Movie              -0.045299\n",
      "genre_Ska                -0.045982\n",
      "genre_Hip-Hop            -0.046018\n",
      "genre_World              -0.046446\n",
      "genre_Opera              -0.046724\n",
      "genre_Reggaeton          -0.047518\n",
      "genre_Jazz               -0.047567\n",
      "genre_Dance              -0.047825\n",
      "genre_Reggae             -0.047984\n",
      "genre_Folk               -0.048232\n",
      "genre_Soundtrack         -0.048332\n",
      "genre_Anime              -0.048624\n",
      "genre_Classical          -0.048861\n",
      "genre_Electronic         -0.049266\n",
      "genre_Alternative        -0.049542\n",
      "genre_Comedy             -0.050701\n",
      "genre_Children’s Music   -0.057078\n",
      "speechiness              -0.074126\n",
      "Name: genre_Blues, dtype: float64\n",
      "Genre:genre_Opera\n",
      "\n",
      "genre_Opera               1.000000\n",
      "acousticness              0.324351\n",
      "instrumentalness          0.126290\n",
      "mode                      0.052427\n",
      "duration_ms               0.018850\n",
      "liveness                  0.013186\n",
      "key                      -0.010203\n",
      "genre_Rap                -0.020090\n",
      "genre_Rock               -0.027267\n",
      "genre_Pop                -0.027646\n",
      "genre_Indie              -0.031117\n",
      "genre_Soul               -0.034597\n",
      "speechiness              -0.040184\n",
      "genre_R&B                -0.041368\n",
      "genre_Country            -0.043866\n",
      "genre_Movie              -0.043948\n",
      "genre_Ska                -0.044611\n",
      "genre_Hip-Hop            -0.044646\n",
      "genre_World              -0.045061\n",
      "genre_Reggaeton          -0.046101\n",
      "genre_Jazz               -0.046149\n",
      "genre_Dance              -0.046399\n",
      "genre_Reggae             -0.046553\n",
      "genre_Blues              -0.046724\n",
      "genre_Folk               -0.046794\n",
      "genre_Soundtrack         -0.046891\n",
      "genre_Anime              -0.047174\n",
      "genre_Classical          -0.047404\n",
      "genre_Electronic         -0.047797\n",
      "genre_Alternative        -0.048065\n",
      "genre_Comedy             -0.049189\n",
      "genre_Children’s Music   -0.055376\n",
      "time_signature           -0.074427\n",
      "tempo                    -0.106520\n",
      "valence                  -0.211045\n",
      "danceability             -0.284265\n",
      "popularity               -0.293815\n",
      "loudness                 -0.298214\n",
      "energy                   -0.307737\n",
      "Name: genre_Opera, dtype: float64\n",
      "Genre:genre_Hip-Hop\n",
      "\n",
      "genre_Hip-Hop             1.000000\n",
      "popularity                0.248599\n",
      "speechiness               0.218421\n",
      "danceability              0.202573\n",
      "loudness                  0.101580\n",
      "energy                    0.064128\n",
      "time_signature            0.041492\n",
      "tempo                     0.026612\n",
      "valence                   0.013528\n",
      "liveness                  0.003967\n",
      "key                      -0.003165\n",
      "duration_ms              -0.013074\n",
      "genre_Rap                -0.019786\n",
      "genre_Rock               -0.026854\n",
      "genre_Pop                -0.027228\n",
      "genre_Indie              -0.030646\n",
      "genre_Soul               -0.034074\n",
      "genre_R&B                -0.040743\n",
      "mode                     -0.041693\n",
      "genre_Country            -0.043203\n",
      "genre_Movie              -0.043284\n",
      "genre_Ska                -0.043936\n",
      "genre_World              -0.044380\n",
      "genre_Opera              -0.044646\n",
      "genre_Reggaeton          -0.045404\n",
      "genre_Jazz               -0.045451\n",
      "genre_Dance              -0.045698\n",
      "genre_Reggae             -0.045850\n",
      "genre_Blues              -0.046018\n",
      "genre_Folk               -0.046086\n",
      "genre_Soundtrack         -0.046182\n",
      "genre_Anime              -0.046461\n",
      "genre_Classical          -0.046687\n",
      "genre_Electronic         -0.047074\n",
      "genre_Alternative        -0.047338\n",
      "genre_Comedy             -0.048445\n",
      "genre_Children’s Music   -0.054539\n",
      "acousticness             -0.124869\n",
      "instrumentalness         -0.152984\n",
      "Name: genre_Hip-Hop, dtype: float64\n",
      "Genre:genre_Children’s Music\n",
      "\n",
      "genre_Children’s Music    1.000000\n",
      "valence                   0.088394\n",
      "danceability              0.075247\n",
      "mode                      0.049384\n",
      "loudness                  0.043592\n",
      "tempo                     0.042476\n",
      "energy                    0.019859\n",
      "time_signature           -0.001628\n",
      "speechiness              -0.008155\n",
      "key                      -0.014285\n",
      "genre_Rap                -0.024542\n",
      "genre_Rock               -0.033309\n",
      "genre_Pop                -0.033773\n",
      "liveness                 -0.036876\n",
      "acousticness             -0.037477\n",
      "genre_Indie              -0.038012\n",
      "genre_Soul               -0.042264\n",
      "instrumentalness         -0.046577\n",
      "genre_R&B                -0.050535\n",
      "genre_Country            -0.053587\n",
      "genre_Movie              -0.053687\n",
      "genre_Ska                -0.054496\n",
      "genre_Hip-Hop            -0.054539\n",
      "genre_World              -0.055047\n",
      "genre_Opera              -0.055376\n",
      "genre_Reggaeton          -0.056317\n",
      "genre_Jazz               -0.056375\n",
      "genre_Dance              -0.056681\n",
      "genre_Reggae             -0.056870\n",
      "genre_Blues              -0.057078\n",
      "genre_Folk               -0.057163\n",
      "genre_Soundtrack         -0.057282\n",
      "genre_Anime              -0.057628\n",
      "genre_Classical          -0.057908\n",
      "genre_Electronic         -0.058389\n",
      "genre_Alternative        -0.058716\n",
      "genre_Comedy             -0.060089\n",
      "popularity               -0.081703\n",
      "duration_ms              -0.129981\n",
      "Name: genre_Children’s Music, dtype: float64\n",
      "Genre:genre_Rap\n",
      "\n",
      "genre_Rap                 1.000000\n",
      "popularity                0.119167\n",
      "speechiness               0.069681\n",
      "danceability              0.069347\n",
      "loudness                  0.044920\n",
      "energy                    0.028662\n",
      "time_signature            0.017149\n",
      "tempo                     0.012012\n",
      "key                       0.000146\n",
      "valence                  -0.003211\n",
      "liveness                 -0.004228\n",
      "genre_Rock               -0.012084\n",
      "genre_Pop                -0.012252\n",
      "genre_Indie              -0.013790\n",
      "genre_Soul               -0.015333\n",
      "mode                     -0.016802\n",
      "genre_R&B                -0.018334\n",
      "duration_ms              -0.018650\n",
      "genre_Country            -0.019441\n",
      "genre_Movie              -0.019477\n",
      "genre_Ska                -0.019771\n",
      "genre_Hip-Hop            -0.019786\n",
      "genre_World              -0.019970\n",
      "genre_Opera              -0.020090\n",
      "genre_Reggaeton          -0.020431\n",
      "genre_Jazz               -0.020452\n",
      "genre_Dance              -0.020563\n",
      "genre_Reggae             -0.020632\n",
      "genre_Blues              -0.020707\n",
      "genre_Folk               -0.020738\n",
      "genre_Soundtrack         -0.020781\n",
      "genre_Anime              -0.020907\n",
      "genre_Classical          -0.021009\n",
      "genre_Electronic         -0.021183\n",
      "genre_Alternative        -0.021302\n",
      "genre_Comedy             -0.021800\n",
      "genre_Children’s Music   -0.024542\n",
      "acousticness             -0.049231\n",
      "instrumentalness         -0.063005\n",
      "Name: genre_Rap, dtype: float64\n",
      "Genre:genre_Indie\n",
      "\n",
      "genre_Indie               1.000000\n",
      "popularity                0.137190\n",
      "loudness                  0.053251\n",
      "energy                    0.028701\n",
      "danceability              0.024256\n",
      "tempo                     0.015763\n",
      "time_signature            0.014928\n",
      "key                       0.005608\n",
      "mode                      0.005268\n",
      "instrumentalness          0.003796\n",
      "valence                   0.002744\n",
      "duration_ms              -0.004716\n",
      "genre_Rap                -0.013790\n",
      "genre_Rock               -0.018717\n",
      "genre_Pop                -0.018977\n",
      "liveness                 -0.021006\n",
      "genre_Soul               -0.023749\n",
      "genre_R&B                -0.028396\n",
      "genre_Country            -0.030111\n",
      "genre_Movie              -0.030168\n",
      "genre_Ska                -0.030622\n",
      "genre_Hip-Hop            -0.030646\n",
      "genre_World              -0.030931\n",
      "genre_Opera              -0.031117\n",
      "genre_Reggaeton          -0.031645\n",
      "genre_Jazz               -0.031678\n",
      "genre_Dance              -0.031850\n",
      "genre_Reggae             -0.031956\n",
      "genre_Blues              -0.032073\n",
      "genre_Folk               -0.032121\n",
      "genre_Soundtrack         -0.032188\n",
      "genre_Anime              -0.032382\n",
      "genre_Classical          -0.032539\n",
      "genre_Electronic         -0.032809\n",
      "genre_Alternative        -0.032993\n",
      "genre_Comedy             -0.033765\n",
      "genre_Children’s Music   -0.038012\n",
      "acousticness             -0.043015\n",
      "speechiness              -0.052011\n",
      "Name: genre_Indie, dtype: float64\n",
      "Genre:genre_Classical\n",
      "\n",
      "genre_Classical           1.000000\n",
      "acousticness              0.291523\n",
      "instrumentalness          0.234255\n",
      "duration_ms               0.093298\n",
      "mode                      0.001724\n",
      "key                      -0.016177\n",
      "genre_Rap                -0.021009\n",
      "genre_Rock               -0.028513\n",
      "genre_Pop                -0.028911\n",
      "genre_Indie              -0.032539\n",
      "genre_Soul               -0.036179\n",
      "genre_R&B                -0.043260\n",
      "genre_Country            -0.045872\n",
      "genre_Movie              -0.045958\n",
      "genre_Ska                -0.046651\n",
      "genre_Hip-Hop            -0.046687\n",
      "genre_World              -0.047122\n",
      "genre_Opera              -0.047404\n",
      "genre_Reggaeton          -0.048209\n",
      "genre_Jazz               -0.048259\n",
      "genre_Dance              -0.048521\n",
      "genre_Reggae             -0.048682\n",
      "genre_Blues              -0.048861\n",
      "genre_Folk               -0.048934\n",
      "genre_Soundtrack         -0.049035\n",
      "genre_Anime              -0.049332\n",
      "genre_Electronic         -0.049983\n",
      "genre_Alternative        -0.050263\n",
      "genre_Comedy             -0.051438\n",
      "genre_Children’s Music   -0.057908\n",
      "time_signature           -0.061106\n",
      "liveness                 -0.065041\n",
      "speechiness              -0.078977\n",
      "tempo                    -0.092370\n",
      "popularity               -0.106185\n",
      "valence                  -0.199320\n",
      "danceability             -0.277999\n",
      "energy                   -0.314653\n",
      "loudness                 -0.324635\n",
      "Name: genre_Classical, dtype: float64\n",
      "Genre:genre_Pop\n",
      "\n",
      "genre_Pop                 1.000000\n",
      "popularity                0.217489\n",
      "loudness                  0.092056\n",
      "energy                    0.051491\n",
      "danceability              0.048603\n",
      "valence                   0.028579\n",
      "tempo                     0.021835\n",
      "time_signature            0.009266\n",
      "mode                     -0.000199\n",
      "key                      -0.000634\n",
      "duration_ms              -0.001939\n",
      "genre_Rap                -0.012252\n",
      "genre_Rock               -0.016629\n",
      "liveness                 -0.018330\n",
      "speechiness              -0.018595\n",
      "genre_Indie              -0.018977\n",
      "genre_Soul               -0.021100\n",
      "genre_R&B                -0.025230\n",
      "genre_Country            -0.026753\n",
      "genre_Movie              -0.026803\n",
      "genre_Ska                -0.027207\n",
      "genre_Hip-Hop            -0.027228\n",
      "genre_World              -0.027482\n",
      "genre_Opera              -0.027646\n",
      "genre_Reggaeton          -0.028116\n",
      "genre_Jazz               -0.028145\n",
      "genre_Dance              -0.028298\n",
      "genre_Reggae             -0.028392\n",
      "genre_Blues              -0.028496\n",
      "genre_Folk               -0.028539\n",
      "genre_Soundtrack         -0.028598\n",
      "genre_Anime              -0.028771\n",
      "genre_Classical          -0.028911\n",
      "genre_Electronic         -0.029150\n",
      "genre_Alternative        -0.029314\n",
      "genre_Comedy             -0.029999\n",
      "genre_Children’s Music   -0.033773\n",
      "acousticness             -0.057777\n",
      "instrumentalness         -0.081073\n",
      "Name: genre_Pop, dtype: float64\n",
      "Genre:genre_Reggae\n",
      "\n",
      "genre_Reggae              1.000000\n",
      "valence                   0.186921\n",
      "danceability              0.182905\n",
      "speechiness               0.078397\n",
      "loudness                  0.069826\n",
      "energy                    0.056687\n",
      "time_signature            0.051625\n",
      "duration_ms               0.035792\n",
      "key                       0.022704\n",
      "tempo                     0.004643\n",
      "genre_Rap                -0.020632\n",
      "popularity               -0.027079\n",
      "genre_Rock               -0.028002\n",
      "genre_Pop                -0.028392\n",
      "genre_Indie              -0.031956\n",
      "genre_Soul               -0.035530\n",
      "mode                     -0.037120\n",
      "liveness                 -0.041614\n",
      "genre_R&B                -0.042484\n",
      "genre_Country            -0.045049\n",
      "genre_Movie              -0.045134\n",
      "genre_Ska                -0.045814\n",
      "genre_Hip-Hop            -0.045850\n",
      "genre_World              -0.046277\n",
      "genre_Opera              -0.046553\n",
      "genre_Reggaeton          -0.047344\n",
      "genre_Jazz               -0.047394\n",
      "genre_Dance              -0.047651\n",
      "genre_Blues              -0.047984\n",
      "genre_Folk               -0.048056\n",
      "genre_Soundtrack         -0.048156\n",
      "genre_Anime              -0.048447\n",
      "genre_Classical          -0.048682\n",
      "genre_Electronic         -0.049086\n",
      "genre_Alternative        -0.049361\n",
      "genre_Comedy             -0.050516\n",
      "genre_Children’s Music   -0.056870\n",
      "instrumentalness         -0.070153\n",
      "acousticness             -0.123124\n",
      "Name: genre_Reggae, dtype: float64\n",
      "Genre:genre_Reggaeton\n",
      "\n",
      "genre_Reggaeton           1.000000\n",
      "danceability              0.216735\n",
      "valence                   0.168876\n",
      "loudness                  0.155435\n",
      "energy                    0.145455\n",
      "speechiness               0.125740\n",
      "time_signature            0.040450\n",
      "tempo                     0.025108\n",
      "key                       0.020803\n",
      "duration_ms               0.019697\n",
      "liveness                 -0.006160\n",
      "popularity               -0.013853\n",
      "genre_Rap                -0.020431\n",
      "genre_Rock               -0.027730\n",
      "genre_Pop                -0.028116\n",
      "genre_Indie              -0.031645\n",
      "genre_Soul               -0.035185\n",
      "genre_R&B                -0.042071\n",
      "genre_Country            -0.044611\n",
      "genre_Movie              -0.044695\n",
      "genre_Ska                -0.045369\n",
      "genre_Hip-Hop            -0.045404\n",
      "genre_World              -0.045827\n",
      "genre_Opera              -0.046101\n",
      "genre_Jazz               -0.046933\n",
      "genre_Dance              -0.047187\n",
      "genre_Reggae             -0.047344\n",
      "genre_Blues              -0.047518\n",
      "genre_Folk               -0.047589\n",
      "genre_Soundtrack         -0.047688\n",
      "genre_Anime              -0.047976\n",
      "genre_Classical          -0.048209\n",
      "genre_Electronic         -0.048609\n",
      "genre_Alternative        -0.048881\n",
      "genre_Comedy             -0.050025\n",
      "genre_Children’s Music   -0.056317\n",
      "mode                     -0.065802\n",
      "acousticness             -0.101545\n",
      "instrumentalness         -0.153904\n",
      "Name: genre_Reggaeton, dtype: float64\n",
      "Genre:genre_Jazz\n",
      "\n",
      "genre_Jazz                1.000000\n",
      "instrumentalness          0.144720\n",
      "acousticness              0.075530\n",
      "duration_ms               0.059970\n",
      "valence                   0.046908\n",
      "danceability              0.043467\n",
      "popularity                0.031544\n",
      "key                       0.004703\n",
      "time_signature           -0.000027\n",
      "genre_Rap                -0.020452\n",
      "genre_Rock               -0.027759\n",
      "genre_Pop                -0.028145\n",
      "genre_Indie              -0.031678\n",
      "genre_Soul               -0.035221\n",
      "tempo                    -0.038767\n",
      "genre_R&B                -0.042115\n",
      "genre_Country            -0.044658\n",
      "genre_Movie              -0.044741\n",
      "genre_Ska                -0.045416\n",
      "genre_Hip-Hop            -0.045451\n",
      "genre_World              -0.045874\n",
      "genre_Opera              -0.046149\n",
      "genre_Reggaeton          -0.046933\n",
      "genre_Dance              -0.047237\n",
      "genre_Reggae             -0.047394\n",
      "genre_Blues              -0.047567\n",
      "genre_Folk               -0.047638\n",
      "genre_Soundtrack         -0.047737\n",
      "liveness                 -0.048019\n",
      "genre_Anime              -0.048026\n",
      "genre_Classical          -0.048259\n",
      "genre_Electronic         -0.048659\n",
      "genre_Alternative        -0.048932\n",
      "genre_Comedy             -0.050077\n",
      "speechiness              -0.053596\n",
      "genre_Children’s Music   -0.056375\n",
      "mode                     -0.056896\n",
      "energy                   -0.079308\n",
      "loudness                 -0.086367\n",
      "Name: genre_Jazz, dtype: float64\n",
      "Genre:genre_Rock\n",
      "\n",
      "genre_Rock                1.000000\n",
      "popularity                0.154065\n",
      "energy                    0.057854\n",
      "loudness                  0.045076\n",
      "valence                   0.030842\n",
      "duration_ms               0.025421\n",
      "mode                      0.024861\n",
      "tempo                     0.023017\n",
      "time_signature            0.010085\n",
      "key                      -0.002702\n",
      "instrumentalness         -0.010710\n",
      "liveness                 -0.011735\n",
      "genre_Rap                -0.012084\n",
      "danceability             -0.014321\n",
      "genre_Pop                -0.016629\n",
      "genre_Indie              -0.018717\n",
      "genre_Soul               -0.020810\n",
      "genre_R&B                -0.024883\n",
      "genre_Country            -0.026386\n",
      "genre_Movie              -0.026435\n",
      "genre_Ska                -0.026833\n",
      "genre_Hip-Hop            -0.026854\n",
      "genre_World              -0.027104\n",
      "genre_Opera              -0.027267\n",
      "genre_Reggaeton          -0.027730\n",
      "genre_Jazz               -0.027759\n",
      "genre_Dance              -0.027909\n",
      "genre_Reggae             -0.028002\n",
      "genre_Blues              -0.028105\n",
      "genre_Folk               -0.028146\n",
      "genre_Soundtrack         -0.028205\n",
      "genre_Anime              -0.028375\n",
      "genre_Classical          -0.028513\n",
      "genre_Electronic         -0.028750\n",
      "genre_Alternative        -0.028911\n",
      "genre_Comedy             -0.029587\n",
      "genre_Children’s Music   -0.033309\n",
      "speechiness              -0.063874\n",
      "acousticness             -0.070437\n",
      "Name: genre_Rock, dtype: float64\n",
      "Genre:genre_Ska\n",
      "\n",
      "genre_Ska                 1.000000\n",
      "energy                    0.208329\n",
      "valence                   0.153392\n",
      "loudness                  0.152494\n",
      "tempo                     0.089679\n",
      "speechiness               0.049064\n",
      "mode                      0.038983\n",
      "time_signature            0.029131\n",
      "liveness                  0.026808\n",
      "key                       0.001598\n",
      "genre_Rap                -0.019771\n",
      "instrumentalness         -0.021512\n",
      "genre_Rock               -0.026833\n",
      "genre_Pop                -0.027207\n",
      "genre_Indie              -0.030622\n",
      "genre_Soul               -0.034048\n",
      "danceability             -0.034652\n",
      "genre_R&B                -0.040711\n",
      "genre_Country            -0.043169\n",
      "genre_Movie              -0.043250\n",
      "genre_Hip-Hop            -0.043936\n",
      "genre_World              -0.044345\n",
      "genre_Opera              -0.044611\n",
      "genre_Reggaeton          -0.045369\n",
      "genre_Jazz               -0.045416\n",
      "genre_Dance              -0.045662\n",
      "genre_Reggae             -0.045814\n",
      "genre_Blues              -0.045982\n",
      "genre_Folk               -0.046050\n",
      "genre_Soundtrack         -0.046146\n",
      "genre_Anime              -0.046425\n",
      "genre_Classical          -0.046651\n",
      "genre_Electronic         -0.047038\n",
      "genre_Alternative        -0.047301\n",
      "genre_Comedy             -0.048408\n",
      "genre_Children’s Music   -0.054496\n",
      "duration_ms              -0.093283\n",
      "popularity               -0.120526\n",
      "acousticness             -0.174268\n",
      "Name: genre_Ska, dtype: float64\n",
      "Genre:genre_Comedy\n",
      "\n",
      "genre_Comedy              1.000000\n",
      "speechiness               0.409944\n",
      "liveness                  0.378126\n",
      "acousticness              0.255663\n",
      "energy                    0.094172\n",
      "danceability              0.021052\n",
      "mode                      0.016343\n",
      "key                       0.002163\n",
      "genre_Rap                -0.021800\n",
      "genre_Rock               -0.029587\n",
      "genre_Pop                -0.029999\n",
      "genre_Indie              -0.033765\n",
      "valence                  -0.035051\n",
      "genre_Soul               -0.037542\n",
      "genre_R&B                -0.044889\n",
      "genre_Country            -0.047600\n",
      "genre_Movie              -0.047689\n",
      "genre_Ska                -0.048408\n",
      "genre_Hip-Hop            -0.048445\n",
      "genre_World              -0.048897\n",
      "genre_Opera              -0.049189\n",
      "genre_Reggaeton          -0.050025\n",
      "genre_Jazz               -0.050077\n",
      "genre_Dance              -0.050348\n",
      "genre_Reggae             -0.050516\n",
      "genre_Blues              -0.050701\n",
      "genre_Folk               -0.050776\n",
      "genre_Soundtrack         -0.050882\n",
      "genre_Anime              -0.051190\n",
      "genre_Classical          -0.051438\n",
      "genre_Electronic         -0.051865\n",
      "genre_Alternative        -0.052156\n",
      "genre_Children’s Music   -0.060089\n",
      "time_signature           -0.072419\n",
      "duration_ms              -0.083993\n",
      "loudness                 -0.101724\n",
      "tempo                    -0.142066\n",
      "popularity               -0.213911\n",
      "instrumentalness         -0.248385\n",
      "Name: genre_Comedy, dtype: float64\n",
      "Genre:genre_Soul\n",
      "\n",
      "genre_Soul                1.000000\n",
      "danceability              0.064130\n",
      "popularity                0.055489\n",
      "valence                   0.027610\n",
      "duration_ms               0.009542\n",
      "key                       0.007840\n",
      "loudness                  0.005849\n",
      "time_signature            0.001700\n",
      "tempo                    -0.007467\n",
      "instrumentalness         -0.010174\n",
      "energy                   -0.011792\n",
      "acousticness             -0.014222\n",
      "genre_Rap                -0.015333\n",
      "genre_Rock               -0.020810\n",
      "speechiness              -0.021086\n",
      "genre_Pop                -0.021100\n",
      "genre_Indie              -0.023749\n",
      "liveness                 -0.024803\n",
      "mode                     -0.026907\n",
      "genre_R&B                -0.031573\n",
      "genre_Country            -0.033479\n",
      "genre_Movie              -0.033542\n",
      "genre_Ska                -0.034048\n",
      "genre_Hip-Hop            -0.034074\n",
      "genre_World              -0.034391\n",
      "genre_Opera              -0.034597\n",
      "genre_Reggaeton          -0.035185\n",
      "genre_Jazz               -0.035221\n",
      "genre_Dance              -0.035413\n",
      "genre_Reggae             -0.035530\n",
      "genre_Blues              -0.035660\n",
      "genre_Folk               -0.035714\n",
      "genre_Soundtrack         -0.035788\n",
      "genre_Anime              -0.036004\n",
      "genre_Classical          -0.036179\n",
      "genre_Electronic         -0.036479\n",
      "genre_Alternative        -0.036684\n",
      "genre_Comedy             -0.037542\n",
      "genre_Children’s Music   -0.042264\n",
      "Name: genre_Soul, dtype: float64\n",
      "Genre:genre_Soundtrack\n",
      "\n",
      "genre_Soundtrack          1.000000\n",
      "instrumentalness          0.285215\n",
      "acousticness              0.192572\n",
      "genre_Rap                -0.020781\n",
      "key                      -0.021052\n",
      "genre_Rock               -0.028205\n",
      "genre_Pop                -0.028598\n",
      "genre_Indie              -0.032188\n",
      "genre_Soul               -0.035788\n",
      "genre_R&B                -0.042792\n",
      "genre_Country            -0.045376\n",
      "genre_Movie              -0.045461\n",
      "genre_Ska                -0.046146\n",
      "genre_Hip-Hop            -0.046182\n",
      "genre_World              -0.046612\n",
      "genre_Opera              -0.046891\n",
      "genre_Reggaeton          -0.047688\n",
      "genre_Jazz               -0.047737\n",
      "genre_Dance              -0.047996\n",
      "genre_Reggae             -0.048156\n",
      "genre_Blues              -0.048332\n",
      "genre_Folk               -0.048404\n",
      "popularity               -0.048749\n",
      "genre_Anime              -0.048798\n",
      "genre_Classical          -0.049035\n",
      "mode                     -0.049371\n",
      "genre_Electronic         -0.049442\n",
      "genre_Alternative        -0.049719\n",
      "genre_Comedy             -0.050882\n",
      "genre_Children’s Music   -0.057282\n",
      "time_signature           -0.062787\n",
      "liveness                 -0.081956\n",
      "tempo                    -0.093965\n",
      "speechiness              -0.122075\n",
      "duration_ms              -0.132501\n",
      "energy                   -0.272630\n",
      "valence                  -0.280504\n",
      "loudness                 -0.294324\n",
      "danceability             -0.325186\n",
      "Name: genre_Soundtrack, dtype: float64\n",
      "Genre:genre_World\n",
      "\n",
      "genre_World               1.000000\n",
      "duration_ms               0.147917\n",
      "mode                      0.046820\n",
      "tempo                     0.020077\n",
      "instrumentalness          0.009828\n",
      "liveness                  0.004830\n",
      "key                       0.001148\n",
      "time_signature           -0.005420\n",
      "acousticness             -0.006309\n",
      "genre_Rap                -0.019970\n",
      "loudness                 -0.026621\n",
      "genre_Rock               -0.027104\n",
      "genre_Pop                -0.027482\n",
      "genre_Indie              -0.030931\n",
      "genre_Soul               -0.034391\n",
      "popularity               -0.035953\n",
      "energy                   -0.036985\n",
      "genre_R&B                -0.041122\n",
      "genre_Country            -0.043605\n",
      "genre_Movie              -0.043687\n",
      "genre_Ska                -0.044345\n",
      "genre_Hip-Hop            -0.044380\n",
      "genre_Opera              -0.045061\n",
      "genre_Reggaeton          -0.045827\n",
      "genre_Jazz               -0.045874\n",
      "genre_Dance              -0.046123\n",
      "genre_Reggae             -0.046277\n",
      "genre_Blues              -0.046446\n",
      "genre_Folk               -0.046515\n",
      "genre_Soundtrack         -0.046612\n",
      "genre_Anime              -0.046894\n",
      "genre_Classical          -0.047122\n",
      "genre_Electronic         -0.047513\n",
      "genre_Alternative        -0.047779\n",
      "genre_Comedy             -0.048897\n",
      "genre_Children’s Music   -0.055047\n",
      "danceability             -0.109931\n",
      "valence                  -0.125364\n",
      "speechiness              -0.145702\n",
      "Name: genre_World, dtype: float64\n"
     ]
    }
   ],
   "source": [
    "corr_matrix = test_data.corr()\n",
    "for genre in one_hot_df.columns:\n",
    "    print(f\"Genre:{genre}\\n\")\n",
    "    print(f'{corr_matrix[genre].sort_values(ascending=False)}' )"
   ]
  },
  {
   "cell_type": "markdown",
   "id": "cardiac-sessions",
   "metadata": {
    "id": "cardiac-sessions"
   },
   "source": [
    "We could use seaborn's pairplots function but with this many features seaborn can be notriously slow."
   ]
  },
  {
   "cell_type": "code",
   "execution_count": null,
   "id": "recorded-inclusion",
   "metadata": {
    "id": "recorded-inclusion"
   },
   "outputs": [],
   "source": [
    "Yval = pd.DataFrame(one_hot)\n",
    "Xval = data[column_split]\n",
    "for x_name,val in Xval.iteritems():\n",
    "    for name, values in Yval.iteritems():\n",
    "        plot = plt.figure()\n",
    "        plt.scatter(Xval[x_name],Yval[name])\n",
    "        plt.xlabel(x_name) \n",
    "        plt.ylabel(name) \n",
    "        z = np.polyfit(Xval[str(x_name)],Yval[str(name)], 1)\n",
    "        p = np.poly1d(z)\n",
    "        plt.plot(Xval[x_name],p(Xval[x_name]),\"r--\")\n",
    "        plt.title(f'{x_name} vs {name}:{Xval[x_name].corr(Yval[name])}') \n",
    "        plt.show()\n",
    "        plot.savefig(f'Plots/{x_name} vs {name}.png')\n",
    "        plt.close()"
   ]
  },
  {
   "cell_type": "code",
   "execution_count": 27,
   "id": "advance-quick",
   "metadata": {
    "colab": {
     "base_uri": "https://localhost:8080/",
     "height": 365
    },
    "id": "advance-quick",
    "outputId": "c5af14e4-bcae-4c63-e478-a5691c952e31",
    "scrolled": true
   },
   "outputs": [
    {
     "data": {
      "text/plain": [
       "<matplotlib.axes._subplots.AxesSubplot at 0x7f2d64050e90>"
      ]
     },
     "execution_count": 27,
     "metadata": {
      "tags": []
     },
     "output_type": "execute_result"
    },
    {
     "data": {
      "image/png": "[encoded data removed]",
      "text/plain": [
       "<Figure size 432x288 with 2 Axes>"
      ]
     },
     "metadata": {
      "needs_background": "light",
      "tags": []
     },
     "output_type": "display_data"
    }
   ],
   "source": [
    "sns.heatmap(corr_matrix,cmap=sns.diverging_palette(-359, 359, n=300))"
   ]
  },
  {
   "cell_type": "markdown",
   "id": "brilliant-cedar",
   "metadata": {
    "id": "brilliant-cedar"
   },
   "source": [
    "Seaborn can be really slow, so we're just going to graph a sample of the data."
   ]
  },
  {
   "cell_type": "markdown",
   "id": "capital-regression",
   "metadata": {
    "id": "capital-regression"
   },
   "source": [
    "Lets split the data into x and y portions, "
   ]
  },
  {
   "cell_type": "code",
   "execution_count": 39,
   "id": "chief-norman",
   "metadata": {
    "id": "chief-norman"
   },
   "outputs": [],
   "source": [
    "Xval = data[column_split].to_numpy()\n",
    "Yval = data['genre'].to_numpy()"
   ]
  },
  {
   "cell_type": "markdown",
   "id": "dominant-spare",
   "metadata": {
    "id": "dominant-spare"
   },
   "source": [
    "Genre is categorical data, so we need to encode it, and unfortunately there are ~300 genres to work with so we can't just use One hot encoding for the actual model so we'll use binary encoding instead"
   ]
  },
  {
   "cell_type": "code",
   "execution_count": 40,
   "id": "tight-progress",
   "metadata": {
    "id": "tight-progress"
   },
   "outputs": [],
   "source": [
    "x_train, x_test, y_train, y_test = train_test_split (Xval, Yval, test_size = 0.2, random_state = 2)"
   ]
  },
  {
   "cell_type": "code",
   "execution_count": 41,
   "id": "junior-lawrence",
   "metadata": {
    "id": "junior-lawrence"
   },
   "outputs": [],
   "source": [
    "scaler = preprocessing.StandardScaler()\n",
    "scaler.fit(x_train)\n",
    "x_train = scaler.transform(x_train)"
   ]
  },
  {
   "cell_type": "code",
   "execution_count": 50,
   "id": "accomplished-saint",
   "metadata": {
    "id": "accomplished-saint",
    "scrolled": true
   },
   "outputs": [],
   "source": [
    "def eval_model(model,x_train,x_test,y_train,y_test):\n",
    "  scores = cross_val_score (model, x_train, y_train, cv= 4, scoring = 'f1_macro', n_jobs= 8 )\n",
    "  print ('f1 macro %s' % str (np.mean(scores)))\n",
    "  scores = cross_val_score (model, x_train, y_train, cv = 4, scoring = 'precision_macro', n_jobs = 8)\n",
    "  print ('precision macro %s' % str (np.mean(scores)))\n",
    "  scores = cross_val_score (model, x_train, y_train, cv = 4, scoring = 'recall_macro', n_jobs = 8)\n",
    "  print ('recall macro %s' % str (np.mean(scores)))\n",
    "  model.fit(x_train,y_train)\n",
    "  x_test = scaler.transform(x_test)\n",
    "  y_pred = model.predict(x_test)\n",
    "  metric= metrics.classification_report (y_pred,y_test)\n",
    "  print (metric)\n",
    "  print(f\"Metrics: {metrics.f1_score(y_test, y_pred, average='macro')}\")\n",
    "  print(f\" {metrics.accuracy_score(y_test, y_pred)}\")"
   ]
  },
  {
   "cell_type": "code",
   "execution_count": 43,
   "id": "7lwp6gxEBT__",
   "metadata": {
    "colab": {
     "base_uri": "https://localhost:8080/"
    },
    "id": "7lwp6gxEBT__",
    "outputId": "8e011c51-809b-4f49-ea57-eaa3dbb31fb4"
   },
   "outputs": [
    {
     "name": "stdout",
     "output_type": "stream",
     "text": [
      "f1 macro 0.3719801827686585\n",
      "precision macro 0.40009207812834846\n",
      "recall macro 0.3894190074148793\n",
      "                  precision    recall  f1-score   support\n",
      "\n",
      "     Alternative       0.26      0.25      0.25      1900\n",
      "           Anime       0.22      0.49      0.30       797\n",
      "           Blues       0.25      0.39      0.30      1095\n",
      "Children’s Music       0.29      0.53      0.37      1261\n",
      "       Classical       0.38      0.50      0.43      1344\n",
      "          Comedy       0.93      0.91      0.92      2029\n",
      "         Country       0.53      0.28      0.37      2877\n",
      "           Dance       0.39      0.25      0.31      2705\n",
      "      Electronic       0.63      0.43      0.51      2612\n",
      "            Folk       0.34      0.33      0.33      1886\n",
      "         Hip-Hop       0.63      0.45      0.53      2246\n",
      "           Indie       0.04      0.17      0.06       164\n",
      "            Jazz       0.27      0.36      0.31      1315\n",
      "           Movie       0.35      0.43      0.39      1271\n",
      "           Opera       0.84      0.62      0.71      2269\n",
      "             Pop       0.18      0.34      0.24       358\n",
      "             R&B       0.20      0.27      0.23       982\n",
      "             Rap       0.03      0.36      0.05        25\n",
      "          Reggae       0.34      0.41      0.37      1423\n",
      "       Reggaeton       0.63      0.43      0.51      2539\n",
      "            Rock       0.17      0.25      0.20       436\n",
      "             Ska       0.68      0.40      0.51      2650\n",
      "            Soul       0.03      0.23      0.06       144\n",
      "      Soundtrack       0.80      0.54      0.65      2633\n",
      "           World       0.35      0.47      0.40      1227\n",
      "\n",
      "        accuracy                           0.43     38188\n",
      "       macro avg       0.39      0.40      0.37     38188\n",
      "    weighted avg       0.51      0.43      0.45     38188\n",
      "\n",
      "Metrics: 0.3722762796201303\n",
      " 0.4316277364617157\n"
     ]
    }
   ],
   "source": [
    "model = QuadraticDiscriminantAnalysis()\n",
    "eval_model(model,x_train,x_test,y_train,y_test)"
   ]
  },
  {
   "cell_type": "code",
   "execution_count": 52,
   "id": "NnBMfgB-CLh9",
   "metadata": {
    "colab": {
     "base_uri": "https://localhost:8080/"
    },
    "id": "NnBMfgB-CLh9",
    "outputId": "0ac3b15a-8281-4a9d-9f9f-5fecf9c9ddc6"
   },
   "outputs": [
    {
     "ename": "TerminatedWorkerError",
     "evalue": "ignored",
     "output_type": "error",
     "traceback": [
      "\u001b[0;31m---------------------------------------------------------------------------\u001b[0m",
      "\u001b[0;31mTerminatedWorkerError\u001b[0m                     Traceback (most recent call last)",
      "\u001b[0;32m<ipython-input-52-837bd1342dc9>\u001b[0m in \u001b[0;36m<module>\u001b[0;34m()\u001b[0m\n\u001b[1;32m      1\u001b[0m \u001b[0mmodel\u001b[0m \u001b[0;34m=\u001b[0m \u001b[0mensemble\u001b[0m\u001b[0;34m.\u001b[0m\u001b[0mRandomForestClassifier\u001b[0m\u001b[0;34m(\u001b[0m\u001b[0;34m)\u001b[0m\u001b[0;34m\u001b[0m\u001b[0;34m\u001b[0m\u001b[0m\n\u001b[0;32m----> 2\u001b[0;31m \u001b[0meval_model\u001b[0m\u001b[0;34m(\u001b[0m\u001b[0mmodel\u001b[0m\u001b[0;34m,\u001b[0m\u001b[0mx_train\u001b[0m\u001b[0;34m,\u001b[0m\u001b[0mx_test\u001b[0m\u001b[0;34m,\u001b[0m\u001b[0my_train\u001b[0m\u001b[0;34m,\u001b[0m\u001b[0my_test\u001b[0m\u001b[0;34m)\u001b[0m\u001b[0;34m\u001b[0m\u001b[0;34m\u001b[0m\u001b[0m\n\u001b[0m",
      "\u001b[0;32m<ipython-input-50-531000199da7>\u001b[0m in \u001b[0;36meval_model\u001b[0;34m(model, x_train, x_test, y_train, y_test)\u001b[0m\n\u001b[1;32m      1\u001b[0m \u001b[0;32mdef\u001b[0m \u001b[0meval_model\u001b[0m\u001b[0;34m(\u001b[0m\u001b[0mmodel\u001b[0m\u001b[0;34m,\u001b[0m\u001b[0mx_train\u001b[0m\u001b[0;34m,\u001b[0m\u001b[0mx_test\u001b[0m\u001b[0;34m,\u001b[0m\u001b[0my_train\u001b[0m\u001b[0;34m,\u001b[0m\u001b[0my_test\u001b[0m\u001b[0;34m)\u001b[0m\u001b[0;34m:\u001b[0m\u001b[0;34m\u001b[0m\u001b[0;34m\u001b[0m\u001b[0m\n\u001b[0;32m----> 2\u001b[0;31m   \u001b[0mscores\u001b[0m \u001b[0;34m=\u001b[0m \u001b[0mcross_val_score\u001b[0m \u001b[0;34m(\u001b[0m\u001b[0mmodel\u001b[0m\u001b[0;34m,\u001b[0m \u001b[0mx_train\u001b[0m\u001b[0;34m,\u001b[0m \u001b[0my_train\u001b[0m\u001b[0;34m,\u001b[0m \u001b[0mcv\u001b[0m\u001b[0;34m=\u001b[0m \u001b[0;36m4\u001b[0m\u001b[0;34m,\u001b[0m \u001b[0mscoring\u001b[0m \u001b[0;34m=\u001b[0m \u001b[0;34m'f1_macro'\u001b[0m\u001b[0;34m,\u001b[0m \u001b[0mn_jobs\u001b[0m\u001b[0;34m=\u001b[0m \u001b[0;36m8\u001b[0m \u001b[0;34m)\u001b[0m\u001b[0;34m\u001b[0m\u001b[0;34m\u001b[0m\u001b[0m\n\u001b[0m\u001b[1;32m      3\u001b[0m   \u001b[0mprint\u001b[0m \u001b[0;34m(\u001b[0m\u001b[0;34m'f1 macro %s'\u001b[0m \u001b[0;34m%\u001b[0m \u001b[0mstr\u001b[0m \u001b[0;34m(\u001b[0m\u001b[0mnp\u001b[0m\u001b[0;34m.\u001b[0m\u001b[0mmean\u001b[0m\u001b[0;34m(\u001b[0m\u001b[0mscores\u001b[0m\u001b[0;34m)\u001b[0m\u001b[0;34m)\u001b[0m\u001b[0;34m)\u001b[0m\u001b[0;34m\u001b[0m\u001b[0;34m\u001b[0m\u001b[0m\n\u001b[1;32m      4\u001b[0m   \u001b[0mscores\u001b[0m \u001b[0;34m=\u001b[0m \u001b[0mcross_val_score\u001b[0m \u001b[0;34m(\u001b[0m\u001b[0mmodel\u001b[0m\u001b[0;34m,\u001b[0m \u001b[0mx_train\u001b[0m\u001b[0;34m,\u001b[0m \u001b[0my_train\u001b[0m\u001b[0;34m,\u001b[0m \u001b[0mcv\u001b[0m \u001b[0;34m=\u001b[0m \u001b[0;36m4\u001b[0m\u001b[0;34m,\u001b[0m \u001b[0mscoring\u001b[0m \u001b[0;34m=\u001b[0m \u001b[0;34m'precision_macro'\u001b[0m\u001b[0;34m,\u001b[0m \u001b[0mn_jobs\u001b[0m \u001b[0;34m=\u001b[0m \u001b[0;36m8\u001b[0m\u001b[0;34m)\u001b[0m\u001b[0;34m\u001b[0m\u001b[0;34m\u001b[0m\u001b[0m\n\u001b[1;32m      5\u001b[0m   \u001b[0mprint\u001b[0m \u001b[0;34m(\u001b[0m\u001b[0;34m'precision macro %s'\u001b[0m \u001b[0;34m%\u001b[0m \u001b[0mstr\u001b[0m \u001b[0;34m(\u001b[0m\u001b[0mnp\u001b[0m\u001b[0;34m.\u001b[0m\u001b[0mmean\u001b[0m\u001b[0;34m(\u001b[0m\u001b[0mscores\u001b[0m\u001b[0;34m)\u001b[0m\u001b[0;34m)\u001b[0m\u001b[0;34m)\u001b[0m\u001b[0;34m\u001b[0m\u001b[0;34m\u001b[0m\u001b[0m\n",
      "\u001b[0;32m/usr/local/lib/python3.7/dist-packages/sklearn/model_selection/_validation.py\u001b[0m in \u001b[0;36mcross_val_score\u001b[0;34m(estimator, X, y, groups, scoring, cv, n_jobs, verbose, fit_params, pre_dispatch, error_score)\u001b[0m\n\u001b[1;32m    388\u001b[0m                                 \u001b[0mfit_params\u001b[0m\u001b[0;34m=\u001b[0m\u001b[0mfit_params\u001b[0m\u001b[0;34m,\u001b[0m\u001b[0;34m\u001b[0m\u001b[0;34m\u001b[0m\u001b[0m\n\u001b[1;32m    389\u001b[0m                                 \u001b[0mpre_dispatch\u001b[0m\u001b[0;34m=\u001b[0m\u001b[0mpre_dispatch\u001b[0m\u001b[0;34m,\u001b[0m\u001b[0;34m\u001b[0m\u001b[0;34m\u001b[0m\u001b[0m\n\u001b[0;32m--> 390\u001b[0;31m                                 error_score=error_score)\n\u001b[0m\u001b[1;32m    391\u001b[0m     \u001b[0;32mreturn\u001b[0m \u001b[0mcv_results\u001b[0m\u001b[0;34m[\u001b[0m\u001b[0;34m'test_score'\u001b[0m\u001b[0;34m]\u001b[0m\u001b[0;34m\u001b[0m\u001b[0;34m\u001b[0m\u001b[0m\n\u001b[1;32m    392\u001b[0m \u001b[0;34m\u001b[0m\u001b[0m\n",
      "\u001b[0;32m/usr/local/lib/python3.7/dist-packages/sklearn/model_selection/_validation.py\u001b[0m in \u001b[0;36mcross_validate\u001b[0;34m(estimator, X, y, groups, scoring, cv, n_jobs, verbose, fit_params, pre_dispatch, return_train_score, return_estimator, error_score)\u001b[0m\n\u001b[1;32m    234\u001b[0m             \u001b[0mreturn_times\u001b[0m\u001b[0;34m=\u001b[0m\u001b[0;32mTrue\u001b[0m\u001b[0;34m,\u001b[0m \u001b[0mreturn_estimator\u001b[0m\u001b[0;34m=\u001b[0m\u001b[0mreturn_estimator\u001b[0m\u001b[0;34m,\u001b[0m\u001b[0;34m\u001b[0m\u001b[0;34m\u001b[0m\u001b[0m\n\u001b[1;32m    235\u001b[0m             error_score=error_score)\n\u001b[0;32m--> 236\u001b[0;31m         for train, test in cv.split(X, y, groups))\n\u001b[0m\u001b[1;32m    237\u001b[0m \u001b[0;34m\u001b[0m\u001b[0m\n\u001b[1;32m    238\u001b[0m     \u001b[0mzipped_scores\u001b[0m \u001b[0;34m=\u001b[0m \u001b[0mlist\u001b[0m\u001b[0;34m(\u001b[0m\u001b[0mzip\u001b[0m\u001b[0;34m(\u001b[0m\u001b[0;34m*\u001b[0m\u001b[0mscores\u001b[0m\u001b[0;34m)\u001b[0m\u001b[0;34m)\u001b[0m\u001b[0;34m\u001b[0m\u001b[0;34m\u001b[0m\u001b[0m\n",
      "\u001b[0;32m/usr/local/lib/python3.7/dist-packages/joblib/parallel.py\u001b[0m in \u001b[0;36m__call__\u001b[0;34m(self, iterable)\u001b[0m\n\u001b[1;32m   1052\u001b[0m \u001b[0;34m\u001b[0m\u001b[0m\n\u001b[1;32m   1053\u001b[0m             \u001b[0;32mwith\u001b[0m \u001b[0mself\u001b[0m\u001b[0;34m.\u001b[0m\u001b[0m_backend\u001b[0m\u001b[0;34m.\u001b[0m\u001b[0mretrieval_context\u001b[0m\u001b[0;34m(\u001b[0m\u001b[0;34m)\u001b[0m\u001b[0;34m:\u001b[0m\u001b[0;34m\u001b[0m\u001b[0;34m\u001b[0m\u001b[0m\n\u001b[0;32m-> 1054\u001b[0;31m                 \u001b[0mself\u001b[0m\u001b[0;34m.\u001b[0m\u001b[0mretrieve\u001b[0m\u001b[0;34m(\u001b[0m\u001b[0;34m)\u001b[0m\u001b[0;34m\u001b[0m\u001b[0;34m\u001b[0m\u001b[0m\n\u001b[0m\u001b[1;32m   1055\u001b[0m             \u001b[0;31m# Make sure that we get a last message telling us we are done\u001b[0m\u001b[0;34m\u001b[0m\u001b[0;34m\u001b[0m\u001b[0;34m\u001b[0m\u001b[0m\n\u001b[1;32m   1056\u001b[0m             \u001b[0melapsed_time\u001b[0m \u001b[0;34m=\u001b[0m \u001b[0mtime\u001b[0m\u001b[0;34m.\u001b[0m\u001b[0mtime\u001b[0m\u001b[0;34m(\u001b[0m\u001b[0;34m)\u001b[0m \u001b[0;34m-\u001b[0m \u001b[0mself\u001b[0m\u001b[0;34m.\u001b[0m\u001b[0m_start_time\u001b[0m\u001b[0;34m\u001b[0m\u001b[0;34m\u001b[0m\u001b[0m\n",
      "\u001b[0;32m/usr/local/lib/python3.7/dist-packages/joblib/parallel.py\u001b[0m in \u001b[0;36mretrieve\u001b[0;34m(self)\u001b[0m\n\u001b[1;32m    931\u001b[0m             \u001b[0;32mtry\u001b[0m\u001b[0;34m:\u001b[0m\u001b[0;34m\u001b[0m\u001b[0;34m\u001b[0m\u001b[0m\n\u001b[1;32m    932\u001b[0m                 \u001b[0;32mif\u001b[0m \u001b[0mgetattr\u001b[0m\u001b[0;34m(\u001b[0m\u001b[0mself\u001b[0m\u001b[0;34m.\u001b[0m\u001b[0m_backend\u001b[0m\u001b[0;34m,\u001b[0m \u001b[0;34m'supports_timeout'\u001b[0m\u001b[0;34m,\u001b[0m \u001b[0;32mFalse\u001b[0m\u001b[0;34m)\u001b[0m\u001b[0;34m:\u001b[0m\u001b[0;34m\u001b[0m\u001b[0;34m\u001b[0m\u001b[0m\n\u001b[0;32m--> 933\u001b[0;31m                     \u001b[0mself\u001b[0m\u001b[0;34m.\u001b[0m\u001b[0m_output\u001b[0m\u001b[0;34m.\u001b[0m\u001b[0mextend\u001b[0m\u001b[0;34m(\u001b[0m\u001b[0mjob\u001b[0m\u001b[0;34m.\u001b[0m\u001b[0mget\u001b[0m\u001b[0;34m(\u001b[0m\u001b[0mtimeout\u001b[0m\u001b[0;34m=\u001b[0m\u001b[0mself\u001b[0m\u001b[0;34m.\u001b[0m\u001b[0mtimeout\u001b[0m\u001b[0;34m)\u001b[0m\u001b[0;34m)\u001b[0m\u001b[0;34m\u001b[0m\u001b[0;34m\u001b[0m\u001b[0m\n\u001b[0m\u001b[1;32m    934\u001b[0m                 \u001b[0;32melse\u001b[0m\u001b[0;34m:\u001b[0m\u001b[0;34m\u001b[0m\u001b[0;34m\u001b[0m\u001b[0m\n\u001b[1;32m    935\u001b[0m                     \u001b[0mself\u001b[0m\u001b[0;34m.\u001b[0m\u001b[0m_output\u001b[0m\u001b[0;34m.\u001b[0m\u001b[0mextend\u001b[0m\u001b[0;34m(\u001b[0m\u001b[0mjob\u001b[0m\u001b[0;34m.\u001b[0m\u001b[0mget\u001b[0m\u001b[0;34m(\u001b[0m\u001b[0;34m)\u001b[0m\u001b[0;34m)\u001b[0m\u001b[0;34m\u001b[0m\u001b[0;34m\u001b[0m\u001b[0m\n",
      "\u001b[0;32m/usr/local/lib/python3.7/dist-packages/joblib/_parallel_backends.py\u001b[0m in \u001b[0;36mwrap_future_result\u001b[0;34m(future, timeout)\u001b[0m\n\u001b[1;32m    540\u001b[0m         AsyncResults.get from multiprocessing.\"\"\"\n\u001b[1;32m    541\u001b[0m         \u001b[0;32mtry\u001b[0m\u001b[0;34m:\u001b[0m\u001b[0;34m\u001b[0m\u001b[0;34m\u001b[0m\u001b[0m\n\u001b[0;32m--> 542\u001b[0;31m             \u001b[0;32mreturn\u001b[0m \u001b[0mfuture\u001b[0m\u001b[0;34m.\u001b[0m\u001b[0mresult\u001b[0m\u001b[0;34m(\u001b[0m\u001b[0mtimeout\u001b[0m\u001b[0;34m=\u001b[0m\u001b[0mtimeout\u001b[0m\u001b[0;34m)\u001b[0m\u001b[0;34m\u001b[0m\u001b[0;34m\u001b[0m\u001b[0m\n\u001b[0m\u001b[1;32m    543\u001b[0m         \u001b[0;32mexcept\u001b[0m \u001b[0mCfTimeoutError\u001b[0m \u001b[0;32mas\u001b[0m \u001b[0me\u001b[0m\u001b[0;34m:\u001b[0m\u001b[0;34m\u001b[0m\u001b[0;34m\u001b[0m\u001b[0m\n\u001b[1;32m    544\u001b[0m             \u001b[0;32mraise\u001b[0m \u001b[0mTimeoutError\u001b[0m \u001b[0;32mfrom\u001b[0m \u001b[0me\u001b[0m\u001b[0;34m\u001b[0m\u001b[0;34m\u001b[0m\u001b[0m\n",
      "\u001b[0;32m/usr/lib/python3.7/concurrent/futures/_base.py\u001b[0m in \u001b[0;36mresult\u001b[0;34m(self, timeout)\u001b[0m\n\u001b[1;32m    433\u001b[0m                 \u001b[0;32mraise\u001b[0m \u001b[0mCancelledError\u001b[0m\u001b[0;34m(\u001b[0m\u001b[0;34m)\u001b[0m\u001b[0;34m\u001b[0m\u001b[0;34m\u001b[0m\u001b[0m\n\u001b[1;32m    434\u001b[0m             \u001b[0;32melif\u001b[0m \u001b[0mself\u001b[0m\u001b[0;34m.\u001b[0m\u001b[0m_state\u001b[0m \u001b[0;34m==\u001b[0m \u001b[0mFINISHED\u001b[0m\u001b[0;34m:\u001b[0m\u001b[0;34m\u001b[0m\u001b[0;34m\u001b[0m\u001b[0m\n\u001b[0;32m--> 435\u001b[0;31m                 \u001b[0;32mreturn\u001b[0m \u001b[0mself\u001b[0m\u001b[0;34m.\u001b[0m\u001b[0m__get_result\u001b[0m\u001b[0;34m(\u001b[0m\u001b[0;34m)\u001b[0m\u001b[0;34m\u001b[0m\u001b[0;34m\u001b[0m\u001b[0m\n\u001b[0m\u001b[1;32m    436\u001b[0m             \u001b[0;32melse\u001b[0m\u001b[0;34m:\u001b[0m\u001b[0;34m\u001b[0m\u001b[0;34m\u001b[0m\u001b[0m\n\u001b[1;32m    437\u001b[0m                 \u001b[0;32mraise\u001b[0m \u001b[0mTimeoutError\u001b[0m\u001b[0;34m(\u001b[0m\u001b[0;34m)\u001b[0m\u001b[0;34m\u001b[0m\u001b[0;34m\u001b[0m\u001b[0m\n",
      "\u001b[0;32m/usr/lib/python3.7/concurrent/futures/_base.py\u001b[0m in \u001b[0;36m__get_result\u001b[0;34m(self)\u001b[0m\n\u001b[1;32m    382\u001b[0m     \u001b[0;32mdef\u001b[0m \u001b[0m__get_result\u001b[0m\u001b[0;34m(\u001b[0m\u001b[0mself\u001b[0m\u001b[0;34m)\u001b[0m\u001b[0;34m:\u001b[0m\u001b[0;34m\u001b[0m\u001b[0;34m\u001b[0m\u001b[0m\n\u001b[1;32m    383\u001b[0m         \u001b[0;32mif\u001b[0m \u001b[0mself\u001b[0m\u001b[0;34m.\u001b[0m\u001b[0m_exception\u001b[0m\u001b[0;34m:\u001b[0m\u001b[0;34m\u001b[0m\u001b[0;34m\u001b[0m\u001b[0m\n\u001b[0;32m--> 384\u001b[0;31m             \u001b[0;32mraise\u001b[0m \u001b[0mself\u001b[0m\u001b[0;34m.\u001b[0m\u001b[0m_exception\u001b[0m\u001b[0;34m\u001b[0m\u001b[0;34m\u001b[0m\u001b[0m\n\u001b[0m\u001b[1;32m    385\u001b[0m         \u001b[0;32melse\u001b[0m\u001b[0;34m:\u001b[0m\u001b[0;34m\u001b[0m\u001b[0;34m\u001b[0m\u001b[0m\n\u001b[1;32m    386\u001b[0m             \u001b[0;32mreturn\u001b[0m \u001b[0mself\u001b[0m\u001b[0;34m.\u001b[0m\u001b[0m_result\u001b[0m\u001b[0;34m\u001b[0m\u001b[0;34m\u001b[0m\u001b[0m\n",
      "\u001b[0;31mTerminatedWorkerError\u001b[0m: A worker process managed by the executor was unexpectedly terminated. This could be caused by a segmentation fault while calling the function or by an excessive memory usage causing the Operating System to kill the worker.\n\nThe exit codes of the workers are {SIGKILL(-9)}"
     ]
    }
   ],
   "source": [
    "model = ensemble.RandomForestClassifier()\n",
    "eval_model(model,x_train,x_test,y_train,y_test)"
   ]
  },
  {
   "cell_type": "markdown",
   "id": "sealed-publisher",
   "metadata": {
    "id": "sealed-publisher"
   },
   "source": [
    "Models: \n",
    "MLP Classifier(% accuracy) Accuracy  0.513381166858699\n",
    "\n",
    "f1 macro [0.43605979 0.43931242 0.43215617 0.43191646 0.43654269]\n",
    "precision macro [0.44173028 0.44635386 0.44248131 0.44374083 0.4462197 ]\n",
    "recall macro [0.4388875  0.4415429  0.43874871 0.43808133 0.43951903]\n",
    "Logistic Regression F1 Score: 0.40400125693935274 Accuracy : 0.40400125\n",
    "Random Forest Classifier Accuracy : 0.4911228658217241\n",
    "f1 macro [0.43605979 0.43931242 0.43215617 0.43191646 0.43654269]\n",
    "precision macro [0.44173028 0.44635386 0.44248131 0.44374083 0.4462197 ]\n",
    "recall macro [0.4388875  0.4415429  0.43874871 0.43808133 0.43951903]\n",
    "Label Encoded Accuracy:  0.4907038860374987\n",
    "f1 macro [0.43434581 0.43796797 0.43706421 0.43330601 0.43836516]\n",
    "precision macro [0.44498669 0.44309053 0.43976377 0.44426419 0.44781818]\n",
    "recall macro [0.44116768 0.44137363 0.4387146  0.43802809 0.44006837]\n",
    "Some notes, it's having trouble with the songs with lower number of occurences, the ratio between the lowest number of occurences and the highest, isn't terrible but let's see if some undersampling will fix this."
   ]
  }
 ],
 "metadata": {
  "colab": {
   "collapsed_sections": [],
   "name": "Genre.ipynb",
   "provenance": [],
   "toc_visible": true
  },
  "kernelspec": {
   "display_name": "Python 3",
   "language": "python",
   "name": "python3"
  },
  "language_info": {
   "codemirror_mode": {
    "name": "ipython",
    "version": 3
   },
   "file_extension": ".py",
   "mimetype": "text/x-python",
   "name": "python",
   "nbconvert_exporter": "python",
   "pygments_lexer": "ipython3",
   "version": "3.6.9"
  }
 },
 "nbformat": 4,
 "nbformat_minor": 5
}
